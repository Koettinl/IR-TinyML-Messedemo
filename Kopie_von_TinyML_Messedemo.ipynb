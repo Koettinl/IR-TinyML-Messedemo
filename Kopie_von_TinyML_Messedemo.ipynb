{
  "nbformat": 4,
  "nbformat_minor": 0,
  "metadata": {
    "colab": {
      "name": "Kopie von TinyML_Messedemo.ipynb",
      "provenance": [],
      "collapsed_sections": [],
      "authorship_tag": "ABX9TyP1usVXenFa1RGBvp9lRhEY",
      "include_colab_link": true
    },
    "kernelspec": {
      "name": "python3",
      "display_name": "Python 3"
    },
    "language_info": {
      "name": "python"
    }
  },
  "cells": [
    {
      "cell_type": "markdown",
      "metadata": {
        "id": "view-in-github",
        "colab_type": "text"
      },
      "source": [
        "<a href=\"https://colab.research.google.com/github/Koettinl/IR-TinyML-Messedemo/blob/main/Kopie_von_TinyML_Messedemo.ipynb\" target=\"_parent\"><img src=\"https://colab.research.google.com/assets/colab-badge.svg\" alt=\"Open In Colab\"/></a>"
      ]
    },
    {
      "cell_type": "markdown",
      "metadata": {
        "id": "8SHnM0t4R-FG"
      },
      "source": [
        "### **Set Environment**\n"
      ]
    },
    {
      "cell_type": "code",
      "metadata": {
        "colab": {
          "base_uri": "https://localhost:8080/"
        },
        "id": "yjSYl52zRxMh",
        "outputId": "38567b6d-881c-4bd4-9703-0c546a24ef1c"
      },
      "source": [
        "from google.colab import drive\n",
        "drive.mount('/content/drive/')"
      ],
      "execution_count": 29,
      "outputs": [
        {
          "output_type": "stream",
          "name": "stdout",
          "text": [
            "Mounted at /content/drive/\n"
          ]
        }
      ]
    },
    {
      "cell_type": "code",
      "metadata": {
        "id": "AfH55HWrR9Sc",
        "colab": {
          "base_uri": "https://localhost:8080/"
        },
        "outputId": "3e828135-c646-45da-81ac-841507f58821"
      },
      "source": [
        "# for Data Preparation\n",
        "%matplotlib inline\n",
        "import pandas as pd\n",
        "import matplotlib.pyplot as plt\n",
        "import numpy as np\n",
        "from datetime import datetime\n",
        "\n",
        "# Tensorflow\n",
        "import tensorflow as tf\n",
        "from tensorflow.keras import layers, models\n",
        "from tensorflow.keras.utils import to_categorical\n",
        "print(tf.version)"
      ],
      "execution_count": 3,
      "outputs": [
        {
          "output_type": "stream",
          "name": "stdout",
          "text": [
            "<module 'tensorflow._api.v2.version' from '/usr/local/lib/python3.7/dist-packages/tensorflow/_api/v2/version/__init__.py'>\n"
          ]
        }
      ]
    },
    {
      "cell_type": "markdown",
      "metadata": {
        "id": "pDeFYI_mR6x2"
      },
      "source": [
        "### **Data Preparation**"
      ]
    },
    {
      "cell_type": "code",
      "metadata": {
        "colab": {
          "base_uri": "https://localhost:8080/",
          "height": 570
        },
        "id": "KtI6pTIdR5WA",
        "outputId": "68b185af-9c93-4ae6-eea3-aee03cb67297"
      },
      "source": [
        "# input data\n",
        "url = \"/content/drive/MyDrive/my_csv.csv\"\n",
        "\n",
        "# read data set\n",
        "df_raw = pd.read_csv(url, parse_dates=True)\n",
        "h,w = df_raw.shape\n",
        "\n",
        "# format date in data set\n",
        "df_raw.iloc[0:h, 0] = pd.to_datetime(df_raw.iloc[0:h,0])\n",
        "\n",
        "# Separate labels and date from the Data set\n",
        "df_label = df_raw.pop(df_raw.columns[w-1])\n",
        "df = df_raw.iloc[0:h, 1:w-1]\n",
        "\n",
        "# visualisation\n",
        "row = 450 #index of image to be shown\n",
        "\n",
        "img = df.iloc[row,0:w-1]\n",
        "img = np.array(img, dtype = np.float32 )\n",
        "size = int(np.sqrt(img.size))\n",
        "img = img.reshape(size, size)\n",
        "\n",
        "# plot image\n",
        "plt.imshow(img)\n",
        "plt.title('IR Image number: '+str(row)+' Label: '+str(df_label[row]))\n",
        "plt.colorbar()\n",
        "plt.show()\n",
        "\n",
        "\n",
        "\n",
        "# prepare data for NN\n",
        "min = df.min().min()\n",
        "max = df.max().max()\n",
        "df_normalized = (df_raw.iloc[0:h, 1:w-1] - min) / (max - min)\n",
        "\n",
        "print(\"Min: \", min,\"°C\\tMax: \", max, \"°C\")\n",
        "print(df.head())\n",
        "print(df_normalized.head())"
      ],
      "execution_count": 23,
      "outputs": [
        {
          "output_type": "display_data",
          "data": {
            "image/png": "[encoded data removed]",
            "text/plain": [
              "<Figure size 432x288 with 2 Axes>"
            ]
          },
          "metadata": {
            "needs_background": "light"
          }
        },
        {
          "output_type": "stream",
          "name": "stdout",
          "text": [
            "Min:  18.25 °C\tMax:  64.0 °C\n",
            "   19.25  19.75   20.5     20  20.5.1  ...  20.25.2   21.4  20.25.3  21.5.2  21.25.6\n",
            "0  20.25  20.25  20.50  19.25   20.50  ...    20.50  20.50    19.75   20.75    21.75\n",
            "1  20.25  20.25  20.75  20.00   20.75  ...    20.50  20.75    20.25   20.75    22.00\n",
            "2  20.50  20.25  20.00  19.75   20.50  ...    20.75  20.75    20.75   21.50    22.25\n",
            "3  20.50  20.25  20.50  20.00   20.50  ...    21.00  21.25    20.75   21.50    22.00\n",
            "4  20.25  19.75  20.50  19.75   20.50  ...    21.00  20.75    20.75   21.25    22.25\n",
            "\n",
            "[5 rows x 64 columns]\n",
            "      19.25     19.75      20.5  ...   20.25.3    21.5.2   21.25.6\n",
            "0  0.043716  0.043716  0.049180  ...  0.032787  0.054645  0.076503\n",
            "1  0.043716  0.043716  0.054645  ...  0.043716  0.054645  0.081967\n",
            "2  0.049180  0.043716  0.038251  ...  0.054645  0.071038  0.087432\n",
            "3  0.049180  0.043716  0.049180  ...  0.054645  0.071038  0.081967\n",
            "4  0.043716  0.032787  0.049180  ...  0.054645  0.065574  0.087432\n",
            "\n",
            "[5 rows x 64 columns]\n"
          ]
        }
      ]
    },
    {
      "cell_type": "code",
      "metadata": {
        "id": "Q83s-2r1Wbpx"
      },
      "source": [
        "# Set training and test data and labels\n",
        "training_dataset = df_normalized.sample(frac=0.8, random_state=0)\n",
        "testing_dataset =  df_normalized.drop(training_dataset.index)\n",
        "\n",
        "# reshape training dataset to a 8x8 np.array\n",
        "training_h, training_w = training_dataset.shape\n",
        "training_dataset = np.array(training_dataset, dtype=np.float32)\n",
        "training_dataset = training_dataset.reshape(training_h, size, size,-1)\n",
        "\n",
        "# reshape testing dataset to a 8x8 np.array\n",
        "testing_h, testing_w = testing_dataset.shape\n",
        "testing_dataset = np.array(testing_dataset, dtype=np.float32)\n",
        "testing_dataset = testing_dataset.reshape(testing_h, size, size,-1)\n",
        "\n",
        "# training and test labeling\n",
        "training_labels = df_label.sample(frac=0.8, random_state=0)\n",
        "testing_labels =  df_label.drop(training_labels.index)"
      ],
      "execution_count": 8,
      "outputs": []
    },
    {
      "cell_type": "markdown",
      "metadata": {
        "id": "HP38amirEQOD"
      },
      "source": [
        "# **Train the model**"
      ]
    },
    {
      "cell_type": "code",
      "metadata": {
        "colab": {
          "base_uri": "https://localhost:8080/"
        },
        "id": "EyKhGhJZEcST",
        "outputId": "76459cac-ef7d-4f79-ef9e-bdb52d5a57b9"
      },
      "source": [
        "num_clases = 3\n",
        "batchsize = 32\n",
        "inputShape = (8,8,1)\n",
        "\n",
        "model = tf.keras.Sequential()\n",
        "model.add(layers.Flatten(input_shape = inputShape)) \n",
        "model.add(layers.Dense(32, activation = 'sigmoid',input_shape = (64,)))\n",
        "model.add(layers.Dense(16,activation = 'sigmoid'))\n",
        "model.add(layers.Dense(num_clases, activation = 'sigmoid'))\n",
        "\n",
        "model.summary()"
      ],
      "execution_count": 10,
      "outputs": [
        {
          "output_type": "stream",
          "name": "stdout",
          "text": [
            "Model: \"sequential_1\"\n",
            "_________________________________________________________________\n",
            " Layer (type)                Output Shape              Param #   \n",
            "=================================================================\n",
            " flatten_1 (Flatten)         (None, 64)                0         \n",
            "                                                                 \n",
            " dense_2 (Dense)             (None, 32)                2080      \n",
            "                                                                 \n",
            " dense_3 (Dense)             (None, 16)                528       \n",
            "                                                                 \n",
            " dense_4 (Dense)             (None, 3)                 51        \n",
            "                                                                 \n",
            "=================================================================\n",
            "Total params: 2,659\n",
            "Trainable params: 2,659\n",
            "Non-trainable params: 0\n",
            "_________________________________________________________________\n"
          ]
        }
      ]
    },
    {
      "cell_type": "code",
      "metadata": {
        "colab": {
          "base_uri": "https://localhost:8080/"
        },
        "id": "ktQC5qprJyHG",
        "outputId": "2179fb6f-ccb1-42be-9a0e-1f8a79089e69"
      },
      "source": [
        "model.compile(\n",
        "    optimizer=tf.keras.optimizers.SGD(\n",
        "        learning_rate= 0.005,\n",
        "        momentum=0.9),\n",
        "        loss = 'categorical_crossentropy',\n",
        "        metrics = ['accuracy'],)\n",
        "\n",
        "history = model.fit(training_dataset, \n",
        "                    to_categorical(training_labels), \n",
        "                    validation_data=(testing_dataset, testing_labels), \n",
        "                    validation_split=0.2, epochs = 500, batch_size = batchsize)"
      ],
      "execution_count": 11,
      "outputs": [
        {
          "output_type": "stream",
          "name": "stdout",
          "text": [
            "Epoch 1/500\n",
            "108/108 [==============================] - 1s 4ms/step - loss: 1.1194 - accuracy: 0.3747 - val_loss: 1.0793 - val_accuracy: 0.6333\n",
            "Epoch 2/500\n",
            "108/108 [==============================] - 0s 2ms/step - loss: 1.0729 - accuracy: 0.4764 - val_loss: 1.0612 - val_accuracy: 0.7707\n",
            "Epoch 3/500\n",
            "108/108 [==============================] - 0s 2ms/step - loss: 1.0521 - accuracy: 0.5661 - val_loss: 1.0299 - val_accuracy: 0.6333\n",
            "Epoch 4/500\n",
            "108/108 [==============================] - 0s 2ms/step - loss: 1.0251 - accuracy: 0.6664 - val_loss: 0.9965 - val_accuracy: 0.6496\n",
            "Epoch 5/500\n",
            "108/108 [==============================] - 0s 2ms/step - loss: 0.9873 - accuracy: 0.6681 - val_loss: 0.9543 - val_accuracy: 0.6764\n",
            "Epoch 6/500\n",
            "108/108 [==============================] - 0s 2ms/step - loss: 0.9359 - accuracy: 0.6780 - val_loss: 0.8974 - val_accuracy: 0.7451\n",
            "Epoch 7/500\n",
            "108/108 [==============================] - 0s 2ms/step - loss: 0.8744 - accuracy: 0.7043 - val_loss: 0.8302 - val_accuracy: 0.7532\n",
            "Epoch 8/500\n",
            "108/108 [==============================] - 0s 2ms/step - loss: 0.8090 - accuracy: 0.7252 - val_loss: 0.7603 - val_accuracy: 0.7520\n",
            "Epoch 9/500\n",
            "108/108 [==============================] - 0s 2ms/step - loss: 0.7476 - accuracy: 0.7340 - val_loss: 0.7086 - val_accuracy: 0.7474\n",
            "Epoch 10/500\n",
            "108/108 [==============================] - 0s 2ms/step - loss: 0.6961 - accuracy: 0.7576 - val_loss: 0.6554 - val_accuracy: 0.7520\n",
            "Epoch 11/500\n",
            "108/108 [==============================] - 0s 2ms/step - loss: 0.6546 - accuracy: 0.7579 - val_loss: 0.6227 - val_accuracy: 0.7451\n",
            "Epoch 12/500\n",
            "108/108 [==============================] - 0s 2ms/step - loss: 0.6226 - accuracy: 0.7646 - val_loss: 0.5945 - val_accuracy: 0.7532\n",
            "Epoch 13/500\n",
            "108/108 [==============================] - 0s 2ms/step - loss: 0.5961 - accuracy: 0.7596 - val_loss: 0.5661 - val_accuracy: 0.7916\n",
            "Epoch 14/500\n",
            "108/108 [==============================] - 0s 2ms/step - loss: 0.5749 - accuracy: 0.7806 - val_loss: 0.5495 - val_accuracy: 0.7858\n",
            "Epoch 15/500\n",
            "108/108 [==============================] - 0s 2ms/step - loss: 0.5567 - accuracy: 0.7815 - val_loss: 0.5290 - val_accuracy: 0.7905\n",
            "Epoch 16/500\n",
            "108/108 [==============================] - 0s 2ms/step - loss: 0.5401 - accuracy: 0.8016 - val_loss: 0.5129 - val_accuracy: 0.8044\n",
            "Epoch 17/500\n",
            "108/108 [==============================] - 0s 2ms/step - loss: 0.5253 - accuracy: 0.8094 - val_loss: 0.4975 - val_accuracy: 0.8079\n",
            "Epoch 18/500\n",
            "108/108 [==============================] - 0s 2ms/step - loss: 0.5104 - accuracy: 0.8220 - val_loss: 0.4854 - val_accuracy: 0.8510\n",
            "Epoch 19/500\n",
            "108/108 [==============================] - 0s 2ms/step - loss: 0.4966 - accuracy: 0.8348 - val_loss: 0.4698 - val_accuracy: 0.8603\n",
            "Epoch 20/500\n",
            "108/108 [==============================] - 0s 2ms/step - loss: 0.4831 - accuracy: 0.8435 - val_loss: 0.4569 - val_accuracy: 0.8626\n",
            "Epoch 21/500\n",
            "108/108 [==============================] - 0s 2ms/step - loss: 0.4713 - accuracy: 0.8514 - val_loss: 0.4425 - val_accuracy: 0.8685\n",
            "Epoch 22/500\n",
            "108/108 [==============================] - 0s 2ms/step - loss: 0.4579 - accuracy: 0.8598 - val_loss: 0.4292 - val_accuracy: 0.8696\n",
            "Epoch 23/500\n",
            "108/108 [==============================] - 0s 2ms/step - loss: 0.4460 - accuracy: 0.8604 - val_loss: 0.4199 - val_accuracy: 0.8766\n",
            "Epoch 24/500\n",
            "108/108 [==============================] - 0s 2ms/step - loss: 0.4331 - accuracy: 0.8651 - val_loss: 0.4038 - val_accuracy: 0.8778\n",
            "Epoch 25/500\n",
            "108/108 [==============================] - 0s 2ms/step - loss: 0.4221 - accuracy: 0.8660 - val_loss: 0.3883 - val_accuracy: 0.8836\n",
            "Epoch 26/500\n",
            "108/108 [==============================] - 0s 2ms/step - loss: 0.4111 - accuracy: 0.8695 - val_loss: 0.3787 - val_accuracy: 0.8894\n",
            "Epoch 27/500\n",
            "108/108 [==============================] - 0s 2ms/step - loss: 0.4001 - accuracy: 0.8709 - val_loss: 0.3666 - val_accuracy: 0.8894\n",
            "Epoch 28/500\n",
            "108/108 [==============================] - 0s 2ms/step - loss: 0.3891 - accuracy: 0.8744 - val_loss: 0.3527 - val_accuracy: 0.8987\n",
            "Epoch 29/500\n",
            "108/108 [==============================] - 0s 2ms/step - loss: 0.3779 - accuracy: 0.8797 - val_loss: 0.3429 - val_accuracy: 0.9045\n",
            "Epoch 30/500\n",
            "108/108 [==============================] - 0s 2ms/step - loss: 0.3674 - accuracy: 0.8802 - val_loss: 0.3357 - val_accuracy: 0.8976\n",
            "Epoch 31/500\n",
            "108/108 [==============================] - 0s 2ms/step - loss: 0.3568 - accuracy: 0.8823 - val_loss: 0.3182 - val_accuracy: 0.9080\n",
            "Epoch 32/500\n",
            "108/108 [==============================] - 0s 2ms/step - loss: 0.3466 - accuracy: 0.8869 - val_loss: 0.3150 - val_accuracy: 0.9080\n",
            "Epoch 33/500\n",
            "108/108 [==============================] - 0s 2ms/step - loss: 0.3356 - accuracy: 0.8896 - val_loss: 0.3030 - val_accuracy: 0.9080\n",
            "Epoch 34/500\n",
            "108/108 [==============================] - 0s 2ms/step - loss: 0.3255 - accuracy: 0.8934 - val_loss: 0.2915 - val_accuracy: 0.9139\n",
            "Epoch 35/500\n",
            "108/108 [==============================] - 0s 2ms/step - loss: 0.3142 - accuracy: 0.8922 - val_loss: 0.2742 - val_accuracy: 0.9139\n",
            "Epoch 36/500\n",
            "108/108 [==============================] - 0s 2ms/step - loss: 0.3047 - accuracy: 0.8986 - val_loss: 0.2659 - val_accuracy: 0.9197\n",
            "Epoch 37/500\n",
            "108/108 [==============================] - 0s 2ms/step - loss: 0.2929 - accuracy: 0.9038 - val_loss: 0.2544 - val_accuracy: 0.9255\n",
            "Epoch 38/500\n",
            "108/108 [==============================] - 0s 2ms/step - loss: 0.2841 - accuracy: 0.9033 - val_loss: 0.2436 - val_accuracy: 0.9232\n",
            "Epoch 39/500\n",
            "108/108 [==============================] - 0s 2ms/step - loss: 0.2734 - accuracy: 0.9056 - val_loss: 0.2364 - val_accuracy: 0.9278\n",
            "Epoch 40/500\n",
            "108/108 [==============================] - 0s 2ms/step - loss: 0.2640 - accuracy: 0.9105 - val_loss: 0.2312 - val_accuracy: 0.9313\n",
            "Epoch 41/500\n",
            "108/108 [==============================] - 0s 2ms/step - loss: 0.2560 - accuracy: 0.9117 - val_loss: 0.2245 - val_accuracy: 0.9302\n",
            "Epoch 42/500\n",
            "108/108 [==============================] - 0s 2ms/step - loss: 0.2470 - accuracy: 0.9132 - val_loss: 0.2121 - val_accuracy: 0.9360\n",
            "Epoch 43/500\n",
            "108/108 [==============================] - 0s 2ms/step - loss: 0.2394 - accuracy: 0.9152 - val_loss: 0.2023 - val_accuracy: 0.9383\n",
            "Epoch 44/500\n",
            "108/108 [==============================] - 0s 2ms/step - loss: 0.2319 - accuracy: 0.9196 - val_loss: 0.2015 - val_accuracy: 0.9383\n",
            "Epoch 45/500\n",
            "108/108 [==============================] - 0s 2ms/step - loss: 0.2242 - accuracy: 0.9213 - val_loss: 0.1942 - val_accuracy: 0.9383\n",
            "Epoch 46/500\n",
            "108/108 [==============================] - 0s 2ms/step - loss: 0.2184 - accuracy: 0.9219 - val_loss: 0.1832 - val_accuracy: 0.9406\n",
            "Epoch 47/500\n",
            "108/108 [==============================] - 0s 2ms/step - loss: 0.2123 - accuracy: 0.9242 - val_loss: 0.1822 - val_accuracy: 0.9395\n",
            "Epoch 48/500\n",
            "108/108 [==============================] - 0s 2ms/step - loss: 0.2077 - accuracy: 0.9274 - val_loss: 0.1764 - val_accuracy: 0.9441\n",
            "Epoch 49/500\n",
            "108/108 [==============================] - 0s 2ms/step - loss: 0.2017 - accuracy: 0.9283 - val_loss: 0.1702 - val_accuracy: 0.9418\n",
            "Epoch 50/500\n",
            "108/108 [==============================] - 0s 2ms/step - loss: 0.1971 - accuracy: 0.9309 - val_loss: 0.1706 - val_accuracy: 0.9418\n",
            "Epoch 51/500\n",
            "108/108 [==============================] - 0s 2ms/step - loss: 0.1925 - accuracy: 0.9333 - val_loss: 0.1644 - val_accuracy: 0.9430\n",
            "Epoch 52/500\n",
            "108/108 [==============================] - 0s 2ms/step - loss: 0.1875 - accuracy: 0.9353 - val_loss: 0.1582 - val_accuracy: 0.9453\n",
            "Epoch 53/500\n",
            "108/108 [==============================] - 0s 2ms/step - loss: 0.1840 - accuracy: 0.9368 - val_loss: 0.1542 - val_accuracy: 0.9534\n",
            "Epoch 54/500\n",
            "108/108 [==============================] - 0s 2ms/step - loss: 0.1804 - accuracy: 0.9376 - val_loss: 0.1512 - val_accuracy: 0.9523\n",
            "Epoch 55/500\n",
            "108/108 [==============================] - 0s 2ms/step - loss: 0.1757 - accuracy: 0.9414 - val_loss: 0.1481 - val_accuracy: 0.9476\n",
            "Epoch 56/500\n",
            "108/108 [==============================] - 0s 2ms/step - loss: 0.1733 - accuracy: 0.9406 - val_loss: 0.1438 - val_accuracy: 0.9534\n",
            "Epoch 57/500\n",
            "108/108 [==============================] - 0s 2ms/step - loss: 0.1688 - accuracy: 0.9438 - val_loss: 0.1420 - val_accuracy: 0.9523\n",
            "Epoch 58/500\n",
            "108/108 [==============================] - 0s 2ms/step - loss: 0.1658 - accuracy: 0.9432 - val_loss: 0.1407 - val_accuracy: 0.9511\n",
            "Epoch 59/500\n",
            "108/108 [==============================] - 0s 2ms/step - loss: 0.1636 - accuracy: 0.9455 - val_loss: 0.1372 - val_accuracy: 0.9534\n",
            "Epoch 60/500\n",
            "108/108 [==============================] - 0s 2ms/step - loss: 0.1605 - accuracy: 0.9478 - val_loss: 0.1331 - val_accuracy: 0.9558\n",
            "Epoch 61/500\n",
            "108/108 [==============================] - 0s 2ms/step - loss: 0.1573 - accuracy: 0.9484 - val_loss: 0.1330 - val_accuracy: 0.9546\n",
            "Epoch 62/500\n",
            "108/108 [==============================] - 0s 2ms/step - loss: 0.1559 - accuracy: 0.9484 - val_loss: 0.1299 - val_accuracy: 0.9546\n",
            "Epoch 63/500\n",
            "108/108 [==============================] - 0s 2ms/step - loss: 0.1531 - accuracy: 0.9490 - val_loss: 0.1268 - val_accuracy: 0.9558\n",
            "Epoch 64/500\n",
            "108/108 [==============================] - 0s 2ms/step - loss: 0.1508 - accuracy: 0.9496 - val_loss: 0.1240 - val_accuracy: 0.9569\n",
            "Epoch 65/500\n",
            "108/108 [==============================] - 0s 2ms/step - loss: 0.1478 - accuracy: 0.9522 - val_loss: 0.1225 - val_accuracy: 0.9581\n",
            "Epoch 66/500\n",
            "108/108 [==============================] - 0s 2ms/step - loss: 0.1463 - accuracy: 0.9516 - val_loss: 0.1196 - val_accuracy: 0.9616\n",
            "Epoch 67/500\n",
            "108/108 [==============================] - 0s 2ms/step - loss: 0.1441 - accuracy: 0.9519 - val_loss: 0.1176 - val_accuracy: 0.9616\n",
            "Epoch 68/500\n",
            "108/108 [==============================] - 0s 2ms/step - loss: 0.1429 - accuracy: 0.9543 - val_loss: 0.1187 - val_accuracy: 0.9581\n",
            "Epoch 69/500\n",
            "108/108 [==============================] - 0s 2ms/step - loss: 0.1400 - accuracy: 0.9548 - val_loss: 0.1153 - val_accuracy: 0.9604\n",
            "Epoch 70/500\n",
            "108/108 [==============================] - 0s 2ms/step - loss: 0.1389 - accuracy: 0.9554 - val_loss: 0.1172 - val_accuracy: 0.9593\n",
            "Epoch 71/500\n",
            "108/108 [==============================] - 0s 2ms/step - loss: 0.1359 - accuracy: 0.9563 - val_loss: 0.1126 - val_accuracy: 0.9616\n",
            "Epoch 72/500\n",
            "108/108 [==============================] - 0s 2ms/step - loss: 0.1351 - accuracy: 0.9566 - val_loss: 0.1105 - val_accuracy: 0.9627\n",
            "Epoch 73/500\n",
            "108/108 [==============================] - 0s 2ms/step - loss: 0.1330 - accuracy: 0.9578 - val_loss: 0.1129 - val_accuracy: 0.9616\n",
            "Epoch 74/500\n",
            "108/108 [==============================] - 0s 2ms/step - loss: 0.1312 - accuracy: 0.9580 - val_loss: 0.1086 - val_accuracy: 0.9616\n",
            "Epoch 75/500\n",
            "108/108 [==============================] - 0s 2ms/step - loss: 0.1303 - accuracy: 0.9589 - val_loss: 0.1088 - val_accuracy: 0.9627\n",
            "Epoch 76/500\n",
            "108/108 [==============================] - 0s 2ms/step - loss: 0.1277 - accuracy: 0.9598 - val_loss: 0.1126 - val_accuracy: 0.9604\n",
            "Epoch 77/500\n",
            "108/108 [==============================] - 0s 2ms/step - loss: 0.1275 - accuracy: 0.9583 - val_loss: 0.1065 - val_accuracy: 0.9627\n",
            "Epoch 78/500\n",
            "108/108 [==============================] - 0s 2ms/step - loss: 0.1250 - accuracy: 0.9598 - val_loss: 0.1078 - val_accuracy: 0.9639\n",
            "Epoch 79/500\n",
            "108/108 [==============================] - 0s 2ms/step - loss: 0.1244 - accuracy: 0.9595 - val_loss: 0.1027 - val_accuracy: 0.9662\n",
            "Epoch 80/500\n",
            "108/108 [==============================] - 0s 2ms/step - loss: 0.1227 - accuracy: 0.9601 - val_loss: 0.1030 - val_accuracy: 0.9686\n",
            "Epoch 81/500\n",
            "108/108 [==============================] - 0s 2ms/step - loss: 0.1208 - accuracy: 0.9615 - val_loss: 0.1014 - val_accuracy: 0.9662\n",
            "Epoch 82/500\n",
            "108/108 [==============================] - 0s 2ms/step - loss: 0.1201 - accuracy: 0.9607 - val_loss: 0.0988 - val_accuracy: 0.9697\n",
            "Epoch 83/500\n",
            "108/108 [==============================] - 0s 2ms/step - loss: 0.1189 - accuracy: 0.9612 - val_loss: 0.0978 - val_accuracy: 0.9674\n",
            "Epoch 84/500\n",
            "108/108 [==============================] - 0s 2ms/step - loss: 0.1185 - accuracy: 0.9624 - val_loss: 0.0964 - val_accuracy: 0.9697\n",
            "Epoch 85/500\n",
            "108/108 [==============================] - 0s 2ms/step - loss: 0.1171 - accuracy: 0.9610 - val_loss: 0.0975 - val_accuracy: 0.9697\n",
            "Epoch 86/500\n",
            "108/108 [==============================] - 0s 2ms/step - loss: 0.1168 - accuracy: 0.9636 - val_loss: 0.0965 - val_accuracy: 0.9721\n",
            "Epoch 87/500\n",
            "108/108 [==============================] - 0s 2ms/step - loss: 0.1149 - accuracy: 0.9639 - val_loss: 0.0926 - val_accuracy: 0.9732\n",
            "Epoch 88/500\n",
            "108/108 [==============================] - 0s 2ms/step - loss: 0.1143 - accuracy: 0.9642 - val_loss: 0.0926 - val_accuracy: 0.9744\n",
            "Epoch 89/500\n",
            "108/108 [==============================] - 0s 2ms/step - loss: 0.1127 - accuracy: 0.9645 - val_loss: 0.0938 - val_accuracy: 0.9721\n",
            "Epoch 90/500\n",
            "108/108 [==============================] - 0s 2ms/step - loss: 0.1128 - accuracy: 0.9639 - val_loss: 0.0898 - val_accuracy: 0.9732\n",
            "Epoch 91/500\n",
            "108/108 [==============================] - 0s 2ms/step - loss: 0.1116 - accuracy: 0.9645 - val_loss: 0.0906 - val_accuracy: 0.9709\n",
            "Epoch 92/500\n",
            "108/108 [==============================] - 0s 2ms/step - loss: 0.1100 - accuracy: 0.9656 - val_loss: 0.0915 - val_accuracy: 0.9721\n",
            "Epoch 93/500\n",
            "108/108 [==============================] - 0s 2ms/step - loss: 0.1095 - accuracy: 0.9642 - val_loss: 0.0925 - val_accuracy: 0.9697\n",
            "Epoch 94/500\n",
            "108/108 [==============================] - 0s 2ms/step - loss: 0.1084 - accuracy: 0.9650 - val_loss: 0.0871 - val_accuracy: 0.9756\n",
            "Epoch 95/500\n",
            "108/108 [==============================] - 0s 2ms/step - loss: 0.1082 - accuracy: 0.9668 - val_loss: 0.0870 - val_accuracy: 0.9744\n",
            "Epoch 96/500\n",
            "108/108 [==============================] - 0s 2ms/step - loss: 0.1069 - accuracy: 0.9647 - val_loss: 0.0878 - val_accuracy: 0.9756\n",
            "Epoch 97/500\n",
            "108/108 [==============================] - 0s 2ms/step - loss: 0.1063 - accuracy: 0.9662 - val_loss: 0.0867 - val_accuracy: 0.9732\n",
            "Epoch 98/500\n",
            "108/108 [==============================] - 0s 2ms/step - loss: 0.1051 - accuracy: 0.9668 - val_loss: 0.0855 - val_accuracy: 0.9732\n",
            "Epoch 99/500\n",
            "108/108 [==============================] - 0s 2ms/step - loss: 0.1043 - accuracy: 0.9668 - val_loss: 0.0861 - val_accuracy: 0.9721\n",
            "Epoch 100/500\n",
            "108/108 [==============================] - 0s 2ms/step - loss: 0.1039 - accuracy: 0.9662 - val_loss: 0.0862 - val_accuracy: 0.9721\n",
            "Epoch 101/500\n",
            "108/108 [==============================] - 0s 2ms/step - loss: 0.1028 - accuracy: 0.9671 - val_loss: 0.0905 - val_accuracy: 0.9686\n",
            "Epoch 102/500\n",
            "108/108 [==============================] - 0s 2ms/step - loss: 0.1022 - accuracy: 0.9668 - val_loss: 0.0857 - val_accuracy: 0.9721\n",
            "Epoch 103/500\n",
            "108/108 [==============================] - 0s 2ms/step - loss: 0.1016 - accuracy: 0.9682 - val_loss: 0.0818 - val_accuracy: 0.9767\n",
            "Epoch 104/500\n",
            "108/108 [==============================] - 0s 2ms/step - loss: 0.1010 - accuracy: 0.9677 - val_loss: 0.0828 - val_accuracy: 0.9756\n",
            "Epoch 105/500\n",
            "108/108 [==============================] - 0s 2ms/step - loss: 0.1004 - accuracy: 0.9679 - val_loss: 0.0823 - val_accuracy: 0.9767\n",
            "Epoch 106/500\n",
            "108/108 [==============================] - 0s 2ms/step - loss: 0.0995 - accuracy: 0.9688 - val_loss: 0.0812 - val_accuracy: 0.9767\n",
            "Epoch 107/500\n",
            "108/108 [==============================] - 0s 2ms/step - loss: 0.0989 - accuracy: 0.9682 - val_loss: 0.0809 - val_accuracy: 0.9779\n",
            "Epoch 108/500\n",
            "108/108 [==============================] - 0s 2ms/step - loss: 0.0979 - accuracy: 0.9694 - val_loss: 0.0820 - val_accuracy: 0.9744\n",
            "Epoch 109/500\n",
            "108/108 [==============================] - 0s 2ms/step - loss: 0.0975 - accuracy: 0.9694 - val_loss: 0.0809 - val_accuracy: 0.9767\n",
            "Epoch 110/500\n",
            "108/108 [==============================] - 0s 2ms/step - loss: 0.0976 - accuracy: 0.9668 - val_loss: 0.0812 - val_accuracy: 0.9744\n",
            "Epoch 111/500\n",
            "108/108 [==============================] - 0s 2ms/step - loss: 0.0966 - accuracy: 0.9691 - val_loss: 0.0821 - val_accuracy: 0.9732\n",
            "Epoch 112/500\n",
            "108/108 [==============================] - 0s 2ms/step - loss: 0.0957 - accuracy: 0.9700 - val_loss: 0.0776 - val_accuracy: 0.9767\n",
            "Epoch 113/500\n",
            "108/108 [==============================] - 0s 2ms/step - loss: 0.0950 - accuracy: 0.9694 - val_loss: 0.0780 - val_accuracy: 0.9779\n",
            "Epoch 114/500\n",
            "108/108 [==============================] - 0s 2ms/step - loss: 0.0943 - accuracy: 0.9700 - val_loss: 0.0817 - val_accuracy: 0.9721\n",
            "Epoch 115/500\n",
            "108/108 [==============================] - 0s 2ms/step - loss: 0.0941 - accuracy: 0.9717 - val_loss: 0.0799 - val_accuracy: 0.9732\n",
            "Epoch 116/500\n",
            "108/108 [==============================] - 0s 2ms/step - loss: 0.0931 - accuracy: 0.9712 - val_loss: 0.0736 - val_accuracy: 0.9790\n",
            "Epoch 117/500\n",
            "108/108 [==============================] - 0s 2ms/step - loss: 0.0930 - accuracy: 0.9700 - val_loss: 0.0754 - val_accuracy: 0.9767\n",
            "Epoch 118/500\n",
            "108/108 [==============================] - 0s 2ms/step - loss: 0.0921 - accuracy: 0.9717 - val_loss: 0.0776 - val_accuracy: 0.9756\n",
            "Epoch 119/500\n",
            "108/108 [==============================] - 0s 2ms/step - loss: 0.0922 - accuracy: 0.9714 - val_loss: 0.0737 - val_accuracy: 0.9779\n",
            "Epoch 120/500\n",
            "108/108 [==============================] - 0s 2ms/step - loss: 0.0908 - accuracy: 0.9712 - val_loss: 0.0768 - val_accuracy: 0.9756\n",
            "Epoch 121/500\n",
            "108/108 [==============================] - 0s 2ms/step - loss: 0.0912 - accuracy: 0.9714 - val_loss: 0.0728 - val_accuracy: 0.9779\n",
            "Epoch 122/500\n",
            "108/108 [==============================] - 0s 2ms/step - loss: 0.0902 - accuracy: 0.9709 - val_loss: 0.0715 - val_accuracy: 0.9790\n",
            "Epoch 123/500\n",
            "108/108 [==============================] - 0s 2ms/step - loss: 0.0900 - accuracy: 0.9720 - val_loss: 0.0753 - val_accuracy: 0.9767\n",
            "Epoch 124/500\n",
            "108/108 [==============================] - 0s 2ms/step - loss: 0.0887 - accuracy: 0.9720 - val_loss: 0.0724 - val_accuracy: 0.9790\n",
            "Epoch 125/500\n",
            "108/108 [==============================] - 0s 2ms/step - loss: 0.0883 - accuracy: 0.9723 - val_loss: 0.0737 - val_accuracy: 0.9779\n",
            "Epoch 126/500\n",
            "108/108 [==============================] - 0s 2ms/step - loss: 0.0878 - accuracy: 0.9729 - val_loss: 0.0709 - val_accuracy: 0.9802\n",
            "Epoch 127/500\n",
            "108/108 [==============================] - 0s 2ms/step - loss: 0.0873 - accuracy: 0.9732 - val_loss: 0.0712 - val_accuracy: 0.9790\n",
            "Epoch 128/500\n",
            "108/108 [==============================] - 0s 2ms/step - loss: 0.0870 - accuracy: 0.9726 - val_loss: 0.0755 - val_accuracy: 0.9744\n",
            "Epoch 129/500\n",
            "108/108 [==============================] - 0s 2ms/step - loss: 0.0870 - accuracy: 0.9732 - val_loss: 0.0703 - val_accuracy: 0.9779\n",
            "Epoch 130/500\n",
            "108/108 [==============================] - 0s 2ms/step - loss: 0.0860 - accuracy: 0.9729 - val_loss: 0.0730 - val_accuracy: 0.9779\n",
            "Epoch 131/500\n",
            "108/108 [==============================] - 0s 2ms/step - loss: 0.0857 - accuracy: 0.9741 - val_loss: 0.0723 - val_accuracy: 0.9779\n",
            "Epoch 132/500\n",
            "108/108 [==============================] - 0s 2ms/step - loss: 0.0849 - accuracy: 0.9735 - val_loss: 0.0697 - val_accuracy: 0.9790\n",
            "Epoch 133/500\n",
            "108/108 [==============================] - 0s 2ms/step - loss: 0.0844 - accuracy: 0.9747 - val_loss: 0.0690 - val_accuracy: 0.9790\n",
            "Epoch 134/500\n",
            "108/108 [==============================] - 0s 2ms/step - loss: 0.0841 - accuracy: 0.9735 - val_loss: 0.0685 - val_accuracy: 0.9790\n",
            "Epoch 135/500\n",
            "108/108 [==============================] - 0s 2ms/step - loss: 0.0834 - accuracy: 0.9741 - val_loss: 0.0686 - val_accuracy: 0.9779\n",
            "Epoch 136/500\n",
            "108/108 [==============================] - 0s 2ms/step - loss: 0.0830 - accuracy: 0.9747 - val_loss: 0.0690 - val_accuracy: 0.9779\n",
            "Epoch 137/500\n",
            "108/108 [==============================] - 0s 2ms/step - loss: 0.0830 - accuracy: 0.9732 - val_loss: 0.0661 - val_accuracy: 0.9814\n",
            "Epoch 138/500\n",
            "108/108 [==============================] - 0s 2ms/step - loss: 0.0821 - accuracy: 0.9747 - val_loss: 0.0682 - val_accuracy: 0.9790\n",
            "Epoch 139/500\n",
            "108/108 [==============================] - 0s 2ms/step - loss: 0.0818 - accuracy: 0.9758 - val_loss: 0.0683 - val_accuracy: 0.9790\n",
            "Epoch 140/500\n",
            "108/108 [==============================] - 0s 2ms/step - loss: 0.0823 - accuracy: 0.9747 - val_loss: 0.0649 - val_accuracy: 0.9802\n",
            "Epoch 141/500\n",
            "108/108 [==============================] - 0s 2ms/step - loss: 0.0808 - accuracy: 0.9747 - val_loss: 0.0648 - val_accuracy: 0.9790\n",
            "Epoch 142/500\n",
            "108/108 [==============================] - 0s 2ms/step - loss: 0.0807 - accuracy: 0.9752 - val_loss: 0.0656 - val_accuracy: 0.9790\n",
            "Epoch 143/500\n",
            "108/108 [==============================] - 0s 2ms/step - loss: 0.0805 - accuracy: 0.9744 - val_loss: 0.0696 - val_accuracy: 0.9756\n",
            "Epoch 144/500\n",
            "108/108 [==============================] - 0s 2ms/step - loss: 0.0795 - accuracy: 0.9755 - val_loss: 0.0633 - val_accuracy: 0.9802\n",
            "Epoch 145/500\n",
            "108/108 [==============================] - 0s 2ms/step - loss: 0.0790 - accuracy: 0.9755 - val_loss: 0.0666 - val_accuracy: 0.9779\n",
            "Epoch 146/500\n",
            "108/108 [==============================] - 0s 2ms/step - loss: 0.0792 - accuracy: 0.9758 - val_loss: 0.0647 - val_accuracy: 0.9814\n",
            "Epoch 147/500\n",
            "108/108 [==============================] - 0s 2ms/step - loss: 0.0781 - accuracy: 0.9752 - val_loss: 0.0635 - val_accuracy: 0.9802\n",
            "Epoch 148/500\n",
            "108/108 [==============================] - 0s 2ms/step - loss: 0.0779 - accuracy: 0.9764 - val_loss: 0.0623 - val_accuracy: 0.9802\n",
            "Epoch 149/500\n",
            "108/108 [==============================] - 0s 2ms/step - loss: 0.0775 - accuracy: 0.9755 - val_loss: 0.0636 - val_accuracy: 0.9814\n",
            "Epoch 150/500\n",
            "108/108 [==============================] - 0s 2ms/step - loss: 0.0785 - accuracy: 0.9761 - val_loss: 0.0638 - val_accuracy: 0.9790\n",
            "Epoch 151/500\n",
            "108/108 [==============================] - 0s 2ms/step - loss: 0.0768 - accuracy: 0.9758 - val_loss: 0.0611 - val_accuracy: 0.9825\n",
            "Epoch 152/500\n",
            "108/108 [==============================] - 0s 2ms/step - loss: 0.0760 - accuracy: 0.9764 - val_loss: 0.0613 - val_accuracy: 0.9825\n",
            "Epoch 153/500\n",
            "108/108 [==============================] - 0s 2ms/step - loss: 0.0760 - accuracy: 0.9761 - val_loss: 0.0627 - val_accuracy: 0.9814\n",
            "Epoch 154/500\n",
            "108/108 [==============================] - 0s 2ms/step - loss: 0.0757 - accuracy: 0.9764 - val_loss: 0.0601 - val_accuracy: 0.9825\n",
            "Epoch 155/500\n",
            "108/108 [==============================] - 0s 2ms/step - loss: 0.0749 - accuracy: 0.9764 - val_loss: 0.0625 - val_accuracy: 0.9814\n",
            "Epoch 156/500\n",
            "108/108 [==============================] - 0s 2ms/step - loss: 0.0746 - accuracy: 0.9764 - val_loss: 0.0587 - val_accuracy: 0.9825\n",
            "Epoch 157/500\n",
            "108/108 [==============================] - 0s 2ms/step - loss: 0.0742 - accuracy: 0.9767 - val_loss: 0.0589 - val_accuracy: 0.9814\n",
            "Epoch 158/500\n",
            "108/108 [==============================] - 0s 2ms/step - loss: 0.0745 - accuracy: 0.9784 - val_loss: 0.0596 - val_accuracy: 0.9814\n",
            "Epoch 159/500\n",
            "108/108 [==============================] - 0s 2ms/step - loss: 0.0734 - accuracy: 0.9773 - val_loss: 0.0602 - val_accuracy: 0.9825\n",
            "Epoch 160/500\n",
            "108/108 [==============================] - 0s 2ms/step - loss: 0.0732 - accuracy: 0.9784 - val_loss: 0.0581 - val_accuracy: 0.9825\n",
            "Epoch 161/500\n",
            "108/108 [==============================] - 0s 2ms/step - loss: 0.0728 - accuracy: 0.9790 - val_loss: 0.0634 - val_accuracy: 0.9756\n",
            "Epoch 162/500\n",
            "108/108 [==============================] - 0s 2ms/step - loss: 0.0723 - accuracy: 0.9773 - val_loss: 0.0623 - val_accuracy: 0.9756\n",
            "Epoch 163/500\n",
            "108/108 [==============================] - 0s 2ms/step - loss: 0.0719 - accuracy: 0.9784 - val_loss: 0.0582 - val_accuracy: 0.9825\n",
            "Epoch 164/500\n",
            "108/108 [==============================] - 0s 2ms/step - loss: 0.0713 - accuracy: 0.9784 - val_loss: 0.0579 - val_accuracy: 0.9825\n",
            "Epoch 165/500\n",
            "108/108 [==============================] - 0s 2ms/step - loss: 0.0711 - accuracy: 0.9784 - val_loss: 0.0552 - val_accuracy: 0.9849\n",
            "Epoch 166/500\n",
            "108/108 [==============================] - 0s 2ms/step - loss: 0.0711 - accuracy: 0.9784 - val_loss: 0.0627 - val_accuracy: 0.9756\n",
            "Epoch 167/500\n",
            "108/108 [==============================] - 0s 2ms/step - loss: 0.0709 - accuracy: 0.9776 - val_loss: 0.0573 - val_accuracy: 0.9825\n",
            "Epoch 168/500\n",
            "108/108 [==============================] - 0s 2ms/step - loss: 0.0702 - accuracy: 0.9787 - val_loss: 0.0576 - val_accuracy: 0.9814\n",
            "Epoch 169/500\n",
            "108/108 [==============================] - 0s 2ms/step - loss: 0.0696 - accuracy: 0.9781 - val_loss: 0.0567 - val_accuracy: 0.9825\n",
            "Epoch 170/500\n",
            "108/108 [==============================] - 0s 2ms/step - loss: 0.0697 - accuracy: 0.9784 - val_loss: 0.0560 - val_accuracy: 0.9825\n",
            "Epoch 171/500\n",
            "108/108 [==============================] - 0s 2ms/step - loss: 0.0695 - accuracy: 0.9796 - val_loss: 0.0576 - val_accuracy: 0.9802\n",
            "Epoch 172/500\n",
            "108/108 [==============================] - 0s 2ms/step - loss: 0.0686 - accuracy: 0.9796 - val_loss: 0.0577 - val_accuracy: 0.9814\n",
            "Epoch 173/500\n",
            "108/108 [==============================] - 0s 2ms/step - loss: 0.0685 - accuracy: 0.9796 - val_loss: 0.0543 - val_accuracy: 0.9837\n",
            "Epoch 174/500\n",
            "108/108 [==============================] - 0s 2ms/step - loss: 0.0674 - accuracy: 0.9790 - val_loss: 0.0592 - val_accuracy: 0.9825\n",
            "Epoch 175/500\n",
            "108/108 [==============================] - 0s 3ms/step - loss: 0.0683 - accuracy: 0.9796 - val_loss: 0.0593 - val_accuracy: 0.9790\n",
            "Epoch 176/500\n",
            "108/108 [==============================] - 0s 2ms/step - loss: 0.0675 - accuracy: 0.9808 - val_loss: 0.0545 - val_accuracy: 0.9825\n",
            "Epoch 177/500\n",
            "108/108 [==============================] - 0s 2ms/step - loss: 0.0675 - accuracy: 0.9787 - val_loss: 0.0561 - val_accuracy: 0.9802\n",
            "Epoch 178/500\n",
            "108/108 [==============================] - 0s 2ms/step - loss: 0.0668 - accuracy: 0.9805 - val_loss: 0.0525 - val_accuracy: 0.9837\n",
            "Epoch 179/500\n",
            "108/108 [==============================] - 0s 2ms/step - loss: 0.0663 - accuracy: 0.9808 - val_loss: 0.0521 - val_accuracy: 0.9860\n",
            "Epoch 180/500\n",
            "108/108 [==============================] - 0s 2ms/step - loss: 0.0669 - accuracy: 0.9799 - val_loss: 0.0518 - val_accuracy: 0.9837\n",
            "Epoch 181/500\n",
            "108/108 [==============================] - 0s 2ms/step - loss: 0.0664 - accuracy: 0.9811 - val_loss: 0.0520 - val_accuracy: 0.9837\n",
            "Epoch 182/500\n",
            "108/108 [==============================] - 0s 3ms/step - loss: 0.0655 - accuracy: 0.9802 - val_loss: 0.0524 - val_accuracy: 0.9825\n",
            "Epoch 183/500\n",
            "108/108 [==============================] - 0s 2ms/step - loss: 0.0653 - accuracy: 0.9808 - val_loss: 0.0537 - val_accuracy: 0.9825\n",
            "Epoch 184/500\n",
            "108/108 [==============================] - 0s 2ms/step - loss: 0.0653 - accuracy: 0.9811 - val_loss: 0.0532 - val_accuracy: 0.9837\n",
            "Epoch 185/500\n",
            "108/108 [==============================] - 0s 2ms/step - loss: 0.0648 - accuracy: 0.9802 - val_loss: 0.0524 - val_accuracy: 0.9837\n",
            "Epoch 186/500\n",
            "108/108 [==============================] - 0s 2ms/step - loss: 0.0648 - accuracy: 0.9814 - val_loss: 0.0523 - val_accuracy: 0.9837\n",
            "Epoch 187/500\n",
            "108/108 [==============================] - 0s 2ms/step - loss: 0.0640 - accuracy: 0.9811 - val_loss: 0.0499 - val_accuracy: 0.9849\n",
            "Epoch 188/500\n",
            "108/108 [==============================] - 0s 2ms/step - loss: 0.0631 - accuracy: 0.9816 - val_loss: 0.0548 - val_accuracy: 0.9802\n",
            "Epoch 189/500\n",
            "108/108 [==============================] - 0s 2ms/step - loss: 0.0632 - accuracy: 0.9819 - val_loss: 0.0522 - val_accuracy: 0.9825\n",
            "Epoch 190/500\n",
            "108/108 [==============================] - 0s 2ms/step - loss: 0.0632 - accuracy: 0.9825 - val_loss: 0.0516 - val_accuracy: 0.9837\n",
            "Epoch 191/500\n",
            "108/108 [==============================] - 0s 2ms/step - loss: 0.0628 - accuracy: 0.9819 - val_loss: 0.0497 - val_accuracy: 0.9860\n",
            "Epoch 192/500\n",
            "108/108 [==============================] - 0s 2ms/step - loss: 0.0628 - accuracy: 0.9819 - val_loss: 0.0524 - val_accuracy: 0.9790\n",
            "Epoch 193/500\n",
            "108/108 [==============================] - 0s 2ms/step - loss: 0.0623 - accuracy: 0.9816 - val_loss: 0.0491 - val_accuracy: 0.9849\n",
            "Epoch 194/500\n",
            "108/108 [==============================] - 0s 2ms/step - loss: 0.0618 - accuracy: 0.9825 - val_loss: 0.0519 - val_accuracy: 0.9814\n",
            "Epoch 195/500\n",
            "108/108 [==============================] - 0s 2ms/step - loss: 0.0618 - accuracy: 0.9822 - val_loss: 0.0481 - val_accuracy: 0.9849\n",
            "Epoch 196/500\n",
            "108/108 [==============================] - 0s 3ms/step - loss: 0.0615 - accuracy: 0.9825 - val_loss: 0.0497 - val_accuracy: 0.9837\n",
            "Epoch 197/500\n",
            "108/108 [==============================] - 0s 2ms/step - loss: 0.0609 - accuracy: 0.9831 - val_loss: 0.0483 - val_accuracy: 0.9849\n",
            "Epoch 198/500\n",
            "108/108 [==============================] - 0s 2ms/step - loss: 0.0604 - accuracy: 0.9822 - val_loss: 0.0501 - val_accuracy: 0.9837\n",
            "Epoch 199/500\n",
            "108/108 [==============================] - 0s 2ms/step - loss: 0.0605 - accuracy: 0.9831 - val_loss: 0.0474 - val_accuracy: 0.9849\n",
            "Epoch 200/500\n",
            "108/108 [==============================] - 0s 2ms/step - loss: 0.0598 - accuracy: 0.9834 - val_loss: 0.0469 - val_accuracy: 0.9849\n",
            "Epoch 201/500\n",
            "108/108 [==============================] - 0s 2ms/step - loss: 0.0597 - accuracy: 0.9825 - val_loss: 0.0542 - val_accuracy: 0.9825\n",
            "Epoch 202/500\n",
            "108/108 [==============================] - 0s 2ms/step - loss: 0.0601 - accuracy: 0.9814 - val_loss: 0.0457 - val_accuracy: 0.9872\n",
            "Epoch 203/500\n",
            "108/108 [==============================] - 0s 2ms/step - loss: 0.0592 - accuracy: 0.9828 - val_loss: 0.0457 - val_accuracy: 0.9860\n",
            "Epoch 204/500\n",
            "108/108 [==============================] - 0s 2ms/step - loss: 0.0579 - accuracy: 0.9834 - val_loss: 0.0515 - val_accuracy: 0.9802\n",
            "Epoch 205/500\n",
            "108/108 [==============================] - 0s 2ms/step - loss: 0.0589 - accuracy: 0.9828 - val_loss: 0.0466 - val_accuracy: 0.9860\n",
            "Epoch 206/500\n",
            "108/108 [==============================] - 0s 2ms/step - loss: 0.0588 - accuracy: 0.9825 - val_loss: 0.0466 - val_accuracy: 0.9860\n",
            "Epoch 207/500\n",
            "108/108 [==============================] - 0s 2ms/step - loss: 0.0583 - accuracy: 0.9834 - val_loss: 0.0461 - val_accuracy: 0.9860\n",
            "Epoch 208/500\n",
            "108/108 [==============================] - 0s 2ms/step - loss: 0.0573 - accuracy: 0.9831 - val_loss: 0.0445 - val_accuracy: 0.9884\n",
            "Epoch 209/500\n",
            "108/108 [==============================] - 0s 2ms/step - loss: 0.0583 - accuracy: 0.9828 - val_loss: 0.0445 - val_accuracy: 0.9884\n",
            "Epoch 210/500\n",
            "108/108 [==============================] - 0s 2ms/step - loss: 0.0578 - accuracy: 0.9834 - val_loss: 0.0449 - val_accuracy: 0.9860\n",
            "Epoch 211/500\n",
            "108/108 [==============================] - 0s 2ms/step - loss: 0.0575 - accuracy: 0.9831 - val_loss: 0.0449 - val_accuracy: 0.9860\n",
            "Epoch 212/500\n",
            "108/108 [==============================] - 0s 2ms/step - loss: 0.0574 - accuracy: 0.9831 - val_loss: 0.0449 - val_accuracy: 0.9872\n",
            "Epoch 213/500\n",
            "108/108 [==============================] - 0s 2ms/step - loss: 0.0568 - accuracy: 0.9843 - val_loss: 0.0453 - val_accuracy: 0.9872\n",
            "Epoch 214/500\n",
            "108/108 [==============================] - 0s 2ms/step - loss: 0.0565 - accuracy: 0.9834 - val_loss: 0.0450 - val_accuracy: 0.9872\n",
            "Epoch 215/500\n",
            "108/108 [==============================] - 0s 2ms/step - loss: 0.0563 - accuracy: 0.9834 - val_loss: 0.0433 - val_accuracy: 0.9895\n",
            "Epoch 216/500\n",
            "108/108 [==============================] - 0s 2ms/step - loss: 0.0569 - accuracy: 0.9837 - val_loss: 0.0437 - val_accuracy: 0.9884\n",
            "Epoch 217/500\n",
            "108/108 [==============================] - 0s 2ms/step - loss: 0.0556 - accuracy: 0.9834 - val_loss: 0.0449 - val_accuracy: 0.9872\n",
            "Epoch 218/500\n",
            "108/108 [==============================] - 0s 2ms/step - loss: 0.0557 - accuracy: 0.9843 - val_loss: 0.0435 - val_accuracy: 0.9884\n",
            "Epoch 219/500\n",
            "108/108 [==============================] - 0s 2ms/step - loss: 0.0548 - accuracy: 0.9848 - val_loss: 0.0453 - val_accuracy: 0.9849\n",
            "Epoch 220/500\n",
            "108/108 [==============================] - 0s 2ms/step - loss: 0.0546 - accuracy: 0.9840 - val_loss: 0.0428 - val_accuracy: 0.9895\n",
            "Epoch 221/500\n",
            "108/108 [==============================] - 0s 2ms/step - loss: 0.0552 - accuracy: 0.9828 - val_loss: 0.0417 - val_accuracy: 0.9895\n",
            "Epoch 222/500\n",
            "108/108 [==============================] - 0s 2ms/step - loss: 0.0551 - accuracy: 0.9851 - val_loss: 0.0437 - val_accuracy: 0.9884\n",
            "Epoch 223/500\n",
            "108/108 [==============================] - 0s 3ms/step - loss: 0.0542 - accuracy: 0.9846 - val_loss: 0.0434 - val_accuracy: 0.9884\n",
            "Epoch 224/500\n",
            "108/108 [==============================] - 0s 2ms/step - loss: 0.0542 - accuracy: 0.9848 - val_loss: 0.0426 - val_accuracy: 0.9895\n",
            "Epoch 225/500\n",
            "108/108 [==============================] - 0s 2ms/step - loss: 0.0538 - accuracy: 0.9840 - val_loss: 0.0418 - val_accuracy: 0.9895\n",
            "Epoch 226/500\n",
            "108/108 [==============================] - 0s 2ms/step - loss: 0.0542 - accuracy: 0.9848 - val_loss: 0.0453 - val_accuracy: 0.9849\n",
            "Epoch 227/500\n",
            "108/108 [==============================] - 0s 2ms/step - loss: 0.0536 - accuracy: 0.9846 - val_loss: 0.0424 - val_accuracy: 0.9895\n",
            "Epoch 228/500\n",
            "108/108 [==============================] - 0s 2ms/step - loss: 0.0535 - accuracy: 0.9863 - val_loss: 0.0410 - val_accuracy: 0.9895\n",
            "Epoch 229/500\n",
            "108/108 [==============================] - 0s 2ms/step - loss: 0.0528 - accuracy: 0.9848 - val_loss: 0.0426 - val_accuracy: 0.9884\n",
            "Epoch 230/500\n",
            "108/108 [==============================] - 0s 2ms/step - loss: 0.0526 - accuracy: 0.9851 - val_loss: 0.0414 - val_accuracy: 0.9895\n",
            "Epoch 231/500\n",
            "108/108 [==============================] - 0s 2ms/step - loss: 0.0523 - accuracy: 0.9854 - val_loss: 0.0405 - val_accuracy: 0.9895\n",
            "Epoch 232/500\n",
            "108/108 [==============================] - 0s 2ms/step - loss: 0.0521 - accuracy: 0.9854 - val_loss: 0.0428 - val_accuracy: 0.9884\n",
            "Epoch 233/500\n",
            "108/108 [==============================] - 0s 2ms/step - loss: 0.0522 - accuracy: 0.9846 - val_loss: 0.0417 - val_accuracy: 0.9884\n",
            "Epoch 234/500\n",
            "108/108 [==============================] - 0s 2ms/step - loss: 0.0519 - accuracy: 0.9854 - val_loss: 0.0399 - val_accuracy: 0.9907\n",
            "Epoch 235/500\n",
            "108/108 [==============================] - 0s 2ms/step - loss: 0.0517 - accuracy: 0.9857 - val_loss: 0.0409 - val_accuracy: 0.9895\n",
            "Epoch 236/500\n",
            "108/108 [==============================] - 0s 2ms/step - loss: 0.0517 - accuracy: 0.9851 - val_loss: 0.0403 - val_accuracy: 0.9895\n",
            "Epoch 237/500\n",
            "108/108 [==============================] - 0s 2ms/step - loss: 0.0513 - accuracy: 0.9857 - val_loss: 0.0418 - val_accuracy: 0.9872\n",
            "Epoch 238/500\n",
            "108/108 [==============================] - 0s 2ms/step - loss: 0.0514 - accuracy: 0.9863 - val_loss: 0.0406 - val_accuracy: 0.9907\n",
            "Epoch 239/500\n",
            "108/108 [==============================] - 0s 2ms/step - loss: 0.0519 - accuracy: 0.9872 - val_loss: 0.0424 - val_accuracy: 0.9872\n",
            "Epoch 240/500\n",
            "108/108 [==============================] - 0s 2ms/step - loss: 0.0512 - accuracy: 0.9857 - val_loss: 0.0395 - val_accuracy: 0.9907\n",
            "Epoch 241/500\n",
            "108/108 [==============================] - 0s 2ms/step - loss: 0.0510 - accuracy: 0.9848 - val_loss: 0.0409 - val_accuracy: 0.9930\n",
            "Epoch 242/500\n",
            "108/108 [==============================] - 0s 2ms/step - loss: 0.0505 - accuracy: 0.9860 - val_loss: 0.0392 - val_accuracy: 0.9907\n",
            "Epoch 243/500\n",
            "108/108 [==============================] - 0s 2ms/step - loss: 0.0503 - accuracy: 0.9860 - val_loss: 0.0395 - val_accuracy: 0.9919\n",
            "Epoch 244/500\n",
            "108/108 [==============================] - 0s 2ms/step - loss: 0.0499 - accuracy: 0.9863 - val_loss: 0.0394 - val_accuracy: 0.9895\n",
            "Epoch 245/500\n",
            "108/108 [==============================] - 0s 3ms/step - loss: 0.0495 - accuracy: 0.9869 - val_loss: 0.0397 - val_accuracy: 0.9907\n",
            "Epoch 246/500\n",
            "108/108 [==============================] - 0s 2ms/step - loss: 0.0492 - accuracy: 0.9866 - val_loss: 0.0384 - val_accuracy: 0.9884\n",
            "Epoch 247/500\n",
            "108/108 [==============================] - 0s 2ms/step - loss: 0.0494 - accuracy: 0.9863 - val_loss: 0.0411 - val_accuracy: 0.9872\n",
            "Epoch 248/500\n",
            "108/108 [==============================] - 0s 2ms/step - loss: 0.0489 - accuracy: 0.9854 - val_loss: 0.0409 - val_accuracy: 0.9872\n",
            "Epoch 249/500\n",
            "108/108 [==============================] - 0s 2ms/step - loss: 0.0489 - accuracy: 0.9848 - val_loss: 0.0371 - val_accuracy: 0.9907\n",
            "Epoch 250/500\n",
            "108/108 [==============================] - 0s 2ms/step - loss: 0.0494 - accuracy: 0.9860 - val_loss: 0.0373 - val_accuracy: 0.9907\n",
            "Epoch 251/500\n",
            "108/108 [==============================] - 0s 2ms/step - loss: 0.0484 - accuracy: 0.9872 - val_loss: 0.0405 - val_accuracy: 0.9895\n",
            "Epoch 252/500\n",
            "108/108 [==============================] - 0s 2ms/step - loss: 0.0486 - accuracy: 0.9854 - val_loss: 0.0374 - val_accuracy: 0.9919\n",
            "Epoch 253/500\n",
            "108/108 [==============================] - 0s 2ms/step - loss: 0.0479 - accuracy: 0.9869 - val_loss: 0.0365 - val_accuracy: 0.9907\n",
            "Epoch 254/500\n",
            "108/108 [==============================] - 0s 2ms/step - loss: 0.0481 - accuracy: 0.9872 - val_loss: 0.0373 - val_accuracy: 0.9930\n",
            "Epoch 255/500\n",
            "108/108 [==============================] - 0s 2ms/step - loss: 0.0478 - accuracy: 0.9875 - val_loss: 0.0365 - val_accuracy: 0.9919\n",
            "Epoch 256/500\n",
            "108/108 [==============================] - 0s 2ms/step - loss: 0.0474 - accuracy: 0.9869 - val_loss: 0.0387 - val_accuracy: 0.9907\n",
            "Epoch 257/500\n",
            "108/108 [==============================] - 0s 2ms/step - loss: 0.0482 - accuracy: 0.9872 - val_loss: 0.0370 - val_accuracy: 0.9919\n",
            "Epoch 258/500\n",
            "108/108 [==============================] - 0s 2ms/step - loss: 0.0473 - accuracy: 0.9872 - val_loss: 0.0374 - val_accuracy: 0.9919\n",
            "Epoch 259/500\n",
            "108/108 [==============================] - 0s 2ms/step - loss: 0.0472 - accuracy: 0.9863 - val_loss: 0.0358 - val_accuracy: 0.9919\n",
            "Epoch 260/500\n",
            "108/108 [==============================] - 0s 2ms/step - loss: 0.0470 - accuracy: 0.9878 - val_loss: 0.0362 - val_accuracy: 0.9930\n",
            "Epoch 261/500\n",
            "108/108 [==============================] - 0s 2ms/step - loss: 0.0469 - accuracy: 0.9869 - val_loss: 0.0353 - val_accuracy: 0.9907\n",
            "Epoch 262/500\n",
            "108/108 [==============================] - 0s 2ms/step - loss: 0.0477 - accuracy: 0.9872 - val_loss: 0.0377 - val_accuracy: 0.9919\n",
            "Epoch 263/500\n",
            "108/108 [==============================] - 0s 2ms/step - loss: 0.0467 - accuracy: 0.9872 - val_loss: 0.0351 - val_accuracy: 0.9907\n",
            "Epoch 264/500\n",
            "108/108 [==============================] - 0s 2ms/step - loss: 0.0464 - accuracy: 0.9875 - val_loss: 0.0367 - val_accuracy: 0.9930\n",
            "Epoch 265/500\n",
            "108/108 [==============================] - 0s 2ms/step - loss: 0.0465 - accuracy: 0.9875 - val_loss: 0.0360 - val_accuracy: 0.9930\n",
            "Epoch 266/500\n",
            "108/108 [==============================] - 0s 2ms/step - loss: 0.0465 - accuracy: 0.9872 - val_loss: 0.0371 - val_accuracy: 0.9919\n",
            "Epoch 267/500\n",
            "108/108 [==============================] - 0s 2ms/step - loss: 0.0460 - accuracy: 0.9881 - val_loss: 0.0352 - val_accuracy: 0.9930\n",
            "Epoch 268/500\n",
            "108/108 [==============================] - 0s 2ms/step - loss: 0.0454 - accuracy: 0.9881 - val_loss: 0.0395 - val_accuracy: 0.9895\n",
            "Epoch 269/500\n",
            "108/108 [==============================] - 0s 2ms/step - loss: 0.0454 - accuracy: 0.9875 - val_loss: 0.0352 - val_accuracy: 0.9919\n",
            "Epoch 270/500\n",
            "108/108 [==============================] - 0s 2ms/step - loss: 0.0457 - accuracy: 0.9878 - val_loss: 0.0365 - val_accuracy: 0.9930\n",
            "Epoch 271/500\n",
            "108/108 [==============================] - 0s 3ms/step - loss: 0.0455 - accuracy: 0.9878 - val_loss: 0.0353 - val_accuracy: 0.9930\n",
            "Epoch 272/500\n",
            "108/108 [==============================] - 0s 2ms/step - loss: 0.0460 - accuracy: 0.9872 - val_loss: 0.0347 - val_accuracy: 0.9930\n",
            "Epoch 273/500\n",
            "108/108 [==============================] - 0s 2ms/step - loss: 0.0448 - accuracy: 0.9881 - val_loss: 0.0347 - val_accuracy: 0.9930\n",
            "Epoch 274/500\n",
            "108/108 [==============================] - 0s 2ms/step - loss: 0.0449 - accuracy: 0.9878 - val_loss: 0.0364 - val_accuracy: 0.9919\n",
            "Epoch 275/500\n",
            "108/108 [==============================] - 0s 2ms/step - loss: 0.0448 - accuracy: 0.9875 - val_loss: 0.0385 - val_accuracy: 0.9907\n",
            "Epoch 276/500\n",
            "108/108 [==============================] - 0s 2ms/step - loss: 0.0448 - accuracy: 0.9886 - val_loss: 0.0350 - val_accuracy: 0.9919\n",
            "Epoch 277/500\n",
            "108/108 [==============================] - 0s 2ms/step - loss: 0.0439 - accuracy: 0.9881 - val_loss: 0.0338 - val_accuracy: 0.9930\n",
            "Epoch 278/500\n",
            "108/108 [==============================] - 0s 3ms/step - loss: 0.0447 - accuracy: 0.9883 - val_loss: 0.0341 - val_accuracy: 0.9930\n",
            "Epoch 279/500\n",
            "108/108 [==============================] - 0s 2ms/step - loss: 0.0441 - accuracy: 0.9886 - val_loss: 0.0339 - val_accuracy: 0.9930\n",
            "Epoch 280/500\n",
            "108/108 [==============================] - 0s 3ms/step - loss: 0.0441 - accuracy: 0.9886 - val_loss: 0.0348 - val_accuracy: 0.9907\n",
            "Epoch 281/500\n",
            "108/108 [==============================] - 0s 2ms/step - loss: 0.0444 - accuracy: 0.9883 - val_loss: 0.0331 - val_accuracy: 0.9930\n",
            "Epoch 282/500\n",
            "108/108 [==============================] - 0s 2ms/step - loss: 0.0436 - accuracy: 0.9886 - val_loss: 0.0346 - val_accuracy: 0.9942\n",
            "Epoch 283/500\n",
            "108/108 [==============================] - 0s 2ms/step - loss: 0.0441 - accuracy: 0.9878 - val_loss: 0.0368 - val_accuracy: 0.9907\n",
            "Epoch 284/500\n",
            "108/108 [==============================] - 0s 2ms/step - loss: 0.0435 - accuracy: 0.9883 - val_loss: 0.0332 - val_accuracy: 0.9930\n",
            "Epoch 285/500\n",
            "108/108 [==============================] - 0s 2ms/step - loss: 0.0430 - accuracy: 0.9881 - val_loss: 0.0329 - val_accuracy: 0.9930\n",
            "Epoch 286/500\n",
            "108/108 [==============================] - 0s 2ms/step - loss: 0.0435 - accuracy: 0.9895 - val_loss: 0.0326 - val_accuracy: 0.9919\n",
            "Epoch 287/500\n",
            "108/108 [==============================] - 0s 2ms/step - loss: 0.0429 - accuracy: 0.9892 - val_loss: 0.0337 - val_accuracy: 0.9942\n",
            "Epoch 288/500\n",
            "108/108 [==============================] - 0s 2ms/step - loss: 0.0426 - accuracy: 0.9886 - val_loss: 0.0324 - val_accuracy: 0.9930\n",
            "Epoch 289/500\n",
            "108/108 [==============================] - 0s 2ms/step - loss: 0.0428 - accuracy: 0.9892 - val_loss: 0.0324 - val_accuracy: 0.9930\n",
            "Epoch 290/500\n",
            "108/108 [==============================] - 0s 2ms/step - loss: 0.0422 - accuracy: 0.9889 - val_loss: 0.0326 - val_accuracy: 0.9930\n",
            "Epoch 291/500\n",
            "108/108 [==============================] - 0s 2ms/step - loss: 0.0426 - accuracy: 0.9892 - val_loss: 0.0337 - val_accuracy: 0.9942\n",
            "Epoch 292/500\n",
            "108/108 [==============================] - 0s 2ms/step - loss: 0.0424 - accuracy: 0.9886 - val_loss: 0.0327 - val_accuracy: 0.9942\n",
            "Epoch 293/500\n",
            "108/108 [==============================] - 0s 2ms/step - loss: 0.0426 - accuracy: 0.9892 - val_loss: 0.0317 - val_accuracy: 0.9919\n",
            "Epoch 294/500\n",
            "108/108 [==============================] - 0s 2ms/step - loss: 0.0421 - accuracy: 0.9883 - val_loss: 0.0318 - val_accuracy: 0.9919\n",
            "Epoch 295/500\n",
            "108/108 [==============================] - 0s 3ms/step - loss: 0.0423 - accuracy: 0.9892 - val_loss: 0.0330 - val_accuracy: 0.9942\n",
            "Epoch 296/500\n",
            "108/108 [==============================] - 0s 2ms/step - loss: 0.0416 - accuracy: 0.9895 - val_loss: 0.0328 - val_accuracy: 0.9930\n",
            "Epoch 297/500\n",
            "108/108 [==============================] - 0s 2ms/step - loss: 0.0418 - accuracy: 0.9889 - val_loss: 0.0313 - val_accuracy: 0.9930\n",
            "Epoch 298/500\n",
            "108/108 [==============================] - 0s 2ms/step - loss: 0.0416 - accuracy: 0.9889 - val_loss: 0.0315 - val_accuracy: 0.9930\n",
            "Epoch 299/500\n",
            "108/108 [==============================] - 0s 2ms/step - loss: 0.0415 - accuracy: 0.9895 - val_loss: 0.0340 - val_accuracy: 0.9919\n",
            "Epoch 300/500\n",
            "108/108 [==============================] - 0s 2ms/step - loss: 0.0414 - accuracy: 0.9892 - val_loss: 0.0324 - val_accuracy: 0.9942\n",
            "Epoch 301/500\n",
            "108/108 [==============================] - 0s 2ms/step - loss: 0.0411 - accuracy: 0.9895 - val_loss: 0.0323 - val_accuracy: 0.9942\n",
            "Epoch 302/500\n",
            "108/108 [==============================] - 0s 2ms/step - loss: 0.0405 - accuracy: 0.9889 - val_loss: 0.0344 - val_accuracy: 0.9919\n",
            "Epoch 303/500\n",
            "108/108 [==============================] - 0s 2ms/step - loss: 0.0412 - accuracy: 0.9901 - val_loss: 0.0313 - val_accuracy: 0.9942\n",
            "Epoch 304/500\n",
            "108/108 [==============================] - 0s 3ms/step - loss: 0.0407 - accuracy: 0.9895 - val_loss: 0.0312 - val_accuracy: 0.9942\n",
            "Epoch 305/500\n",
            "108/108 [==============================] - 0s 2ms/step - loss: 0.0405 - accuracy: 0.9892 - val_loss: 0.0315 - val_accuracy: 0.9930\n",
            "Epoch 306/500\n",
            "108/108 [==============================] - 0s 3ms/step - loss: 0.0406 - accuracy: 0.9901 - val_loss: 0.0323 - val_accuracy: 0.9942\n",
            "Epoch 307/500\n",
            "108/108 [==============================] - 0s 3ms/step - loss: 0.0407 - accuracy: 0.9892 - val_loss: 0.0319 - val_accuracy: 0.9942\n",
            "Epoch 308/500\n",
            "108/108 [==============================] - 0s 2ms/step - loss: 0.0403 - accuracy: 0.9898 - val_loss: 0.0302 - val_accuracy: 0.9930\n",
            "Epoch 309/500\n",
            "108/108 [==============================] - 0s 2ms/step - loss: 0.0400 - accuracy: 0.9901 - val_loss: 0.0309 - val_accuracy: 0.9942\n",
            "Epoch 310/500\n",
            "108/108 [==============================] - 0s 2ms/step - loss: 0.0401 - accuracy: 0.9886 - val_loss: 0.0298 - val_accuracy: 0.9930\n",
            "Epoch 311/500\n",
            "108/108 [==============================] - 0s 2ms/step - loss: 0.0404 - accuracy: 0.9889 - val_loss: 0.0307 - val_accuracy: 0.9942\n",
            "Epoch 312/500\n",
            "108/108 [==============================] - 0s 3ms/step - loss: 0.0395 - accuracy: 0.9892 - val_loss: 0.0305 - val_accuracy: 0.9942\n",
            "Epoch 313/500\n",
            "108/108 [==============================] - 0s 3ms/step - loss: 0.0397 - accuracy: 0.9895 - val_loss: 0.0313 - val_accuracy: 0.9942\n",
            "Epoch 314/500\n",
            "108/108 [==============================] - 0s 2ms/step - loss: 0.0395 - accuracy: 0.9901 - val_loss: 0.0310 - val_accuracy: 0.9942\n",
            "Epoch 315/500\n",
            "108/108 [==============================] - 0s 2ms/step - loss: 0.0395 - accuracy: 0.9907 - val_loss: 0.0303 - val_accuracy: 0.9942\n",
            "Epoch 316/500\n",
            "108/108 [==============================] - 0s 2ms/step - loss: 0.0394 - accuracy: 0.9901 - val_loss: 0.0296 - val_accuracy: 0.9942\n",
            "Epoch 317/500\n",
            "108/108 [==============================] - 0s 2ms/step - loss: 0.0390 - accuracy: 0.9901 - val_loss: 0.0294 - val_accuracy: 0.9930\n",
            "Epoch 318/500\n",
            "108/108 [==============================] - 0s 2ms/step - loss: 0.0393 - accuracy: 0.9913 - val_loss: 0.0314 - val_accuracy: 0.9930\n",
            "Epoch 319/500\n",
            "108/108 [==============================] - 0s 2ms/step - loss: 0.0390 - accuracy: 0.9901 - val_loss: 0.0301 - val_accuracy: 0.9942\n",
            "Epoch 320/500\n",
            "108/108 [==============================] - 0s 2ms/step - loss: 0.0383 - accuracy: 0.9907 - val_loss: 0.0315 - val_accuracy: 0.9930\n",
            "Epoch 321/500\n",
            "108/108 [==============================] - 0s 2ms/step - loss: 0.0390 - accuracy: 0.9901 - val_loss: 0.0306 - val_accuracy: 0.9942\n",
            "Epoch 322/500\n",
            "108/108 [==============================] - 0s 2ms/step - loss: 0.0387 - accuracy: 0.9898 - val_loss: 0.0306 - val_accuracy: 0.9942\n",
            "Epoch 323/500\n",
            "108/108 [==============================] - 0s 2ms/step - loss: 0.0383 - accuracy: 0.9898 - val_loss: 0.0292 - val_accuracy: 0.9942\n",
            "Epoch 324/500\n",
            "108/108 [==============================] - 0s 2ms/step - loss: 0.0391 - accuracy: 0.9895 - val_loss: 0.0293 - val_accuracy: 0.9942\n",
            "Epoch 325/500\n",
            "108/108 [==============================] - 0s 3ms/step - loss: 0.0388 - accuracy: 0.9913 - val_loss: 0.0296 - val_accuracy: 0.9942\n",
            "Epoch 326/500\n",
            "108/108 [==============================] - 0s 2ms/step - loss: 0.0379 - accuracy: 0.9898 - val_loss: 0.0312 - val_accuracy: 0.9942\n",
            "Epoch 327/500\n",
            "108/108 [==============================] - 0s 2ms/step - loss: 0.0389 - accuracy: 0.9904 - val_loss: 0.0304 - val_accuracy: 0.9942\n",
            "Epoch 328/500\n",
            "108/108 [==============================] - 0s 2ms/step - loss: 0.0381 - accuracy: 0.9904 - val_loss: 0.0287 - val_accuracy: 0.9942\n",
            "Epoch 329/500\n",
            "108/108 [==============================] - 0s 2ms/step - loss: 0.0383 - accuracy: 0.9904 - val_loss: 0.0293 - val_accuracy: 0.9942\n",
            "Epoch 330/500\n",
            "108/108 [==============================] - 0s 3ms/step - loss: 0.0383 - accuracy: 0.9904 - val_loss: 0.0283 - val_accuracy: 0.9942\n",
            "Epoch 331/500\n",
            "108/108 [==============================] - 0s 3ms/step - loss: 0.0383 - accuracy: 0.9913 - val_loss: 0.0295 - val_accuracy: 0.9942\n",
            "Epoch 332/500\n",
            "108/108 [==============================] - 0s 2ms/step - loss: 0.0381 - accuracy: 0.9904 - val_loss: 0.0287 - val_accuracy: 0.9942\n",
            "Epoch 333/500\n",
            "108/108 [==============================] - 0s 2ms/step - loss: 0.0377 - accuracy: 0.9907 - val_loss: 0.0287 - val_accuracy: 0.9942\n",
            "Epoch 334/500\n",
            "108/108 [==============================] - 0s 3ms/step - loss: 0.0372 - accuracy: 0.9913 - val_loss: 0.0320 - val_accuracy: 0.9919\n",
            "Epoch 335/500\n",
            "108/108 [==============================] - 0s 2ms/step - loss: 0.0376 - accuracy: 0.9907 - val_loss: 0.0286 - val_accuracy: 0.9942\n",
            "Epoch 336/500\n",
            "108/108 [==============================] - 0s 3ms/step - loss: 0.0379 - accuracy: 0.9907 - val_loss: 0.0289 - val_accuracy: 0.9942\n",
            "Epoch 337/500\n",
            "108/108 [==============================] - 0s 2ms/step - loss: 0.0370 - accuracy: 0.9918 - val_loss: 0.0288 - val_accuracy: 0.9942\n",
            "Epoch 338/500\n",
            "108/108 [==============================] - 0s 2ms/step - loss: 0.0373 - accuracy: 0.9916 - val_loss: 0.0292 - val_accuracy: 0.9942\n",
            "Epoch 339/500\n",
            "108/108 [==============================] - 0s 2ms/step - loss: 0.0374 - accuracy: 0.9910 - val_loss: 0.0280 - val_accuracy: 0.9942\n",
            "Epoch 340/500\n",
            "108/108 [==============================] - 0s 2ms/step - loss: 0.0370 - accuracy: 0.9916 - val_loss: 0.0308 - val_accuracy: 0.9930\n",
            "Epoch 341/500\n",
            "108/108 [==============================] - 0s 2ms/step - loss: 0.0374 - accuracy: 0.9913 - val_loss: 0.0279 - val_accuracy: 0.9942\n",
            "Epoch 342/500\n",
            "108/108 [==============================] - 0s 2ms/step - loss: 0.0374 - accuracy: 0.9907 - val_loss: 0.0275 - val_accuracy: 0.9942\n",
            "Epoch 343/500\n",
            "108/108 [==============================] - 0s 2ms/step - loss: 0.0372 - accuracy: 0.9913 - val_loss: 0.0277 - val_accuracy: 0.9942\n",
            "Epoch 344/500\n",
            "108/108 [==============================] - 0s 2ms/step - loss: 0.0371 - accuracy: 0.9916 - val_loss: 0.0272 - val_accuracy: 0.9942\n",
            "Epoch 345/500\n",
            "108/108 [==============================] - 0s 2ms/step - loss: 0.0368 - accuracy: 0.9913 - val_loss: 0.0285 - val_accuracy: 0.9942\n",
            "Epoch 346/500\n",
            "108/108 [==============================] - 0s 2ms/step - loss: 0.0367 - accuracy: 0.9910 - val_loss: 0.0286 - val_accuracy: 0.9942\n",
            "Epoch 347/500\n",
            "108/108 [==============================] - 0s 2ms/step - loss: 0.0371 - accuracy: 0.9907 - val_loss: 0.0276 - val_accuracy: 0.9942\n",
            "Epoch 348/500\n",
            "108/108 [==============================] - 0s 2ms/step - loss: 0.0360 - accuracy: 0.9916 - val_loss: 0.0284 - val_accuracy: 0.9942\n",
            "Epoch 349/500\n",
            "108/108 [==============================] - 0s 2ms/step - loss: 0.0366 - accuracy: 0.9910 - val_loss: 0.0269 - val_accuracy: 0.9942\n",
            "Epoch 350/500\n",
            "108/108 [==============================] - 0s 2ms/step - loss: 0.0363 - accuracy: 0.9916 - val_loss: 0.0267 - val_accuracy: 0.9942\n",
            "Epoch 351/500\n",
            "108/108 [==============================] - 0s 2ms/step - loss: 0.0359 - accuracy: 0.9907 - val_loss: 0.0286 - val_accuracy: 0.9942\n",
            "Epoch 352/500\n",
            "108/108 [==============================] - 0s 2ms/step - loss: 0.0363 - accuracy: 0.9913 - val_loss: 0.0270 - val_accuracy: 0.9942\n",
            "Epoch 353/500\n",
            "108/108 [==============================] - 0s 2ms/step - loss: 0.0358 - accuracy: 0.9907 - val_loss: 0.0290 - val_accuracy: 0.9942\n",
            "Epoch 354/500\n",
            "108/108 [==============================] - 0s 2ms/step - loss: 0.0355 - accuracy: 0.9913 - val_loss: 0.0292 - val_accuracy: 0.9942\n",
            "Epoch 355/500\n",
            "108/108 [==============================] - 0s 3ms/step - loss: 0.0352 - accuracy: 0.9913 - val_loss: 0.0268 - val_accuracy: 0.9942\n",
            "Epoch 356/500\n",
            "108/108 [==============================] - 0s 3ms/step - loss: 0.0356 - accuracy: 0.9910 - val_loss: 0.0275 - val_accuracy: 0.9942\n",
            "Epoch 357/500\n",
            "108/108 [==============================] - 0s 2ms/step - loss: 0.0355 - accuracy: 0.9913 - val_loss: 0.0274 - val_accuracy: 0.9942\n",
            "Epoch 358/500\n",
            "108/108 [==============================] - 0s 3ms/step - loss: 0.0355 - accuracy: 0.9910 - val_loss: 0.0263 - val_accuracy: 0.9942\n",
            "Epoch 359/500\n",
            "108/108 [==============================] - 0s 2ms/step - loss: 0.0357 - accuracy: 0.9916 - val_loss: 0.0264 - val_accuracy: 0.9942\n",
            "Epoch 360/500\n",
            "108/108 [==============================] - 0s 2ms/step - loss: 0.0356 - accuracy: 0.9916 - val_loss: 0.0276 - val_accuracy: 0.9942\n",
            "Epoch 361/500\n",
            "108/108 [==============================] - 0s 2ms/step - loss: 0.0351 - accuracy: 0.9916 - val_loss: 0.0262 - val_accuracy: 0.9942\n",
            "Epoch 362/500\n",
            "108/108 [==============================] - 0s 2ms/step - loss: 0.0354 - accuracy: 0.9910 - val_loss: 0.0269 - val_accuracy: 0.9942\n",
            "Epoch 363/500\n",
            "108/108 [==============================] - 0s 2ms/step - loss: 0.0351 - accuracy: 0.9918 - val_loss: 0.0259 - val_accuracy: 0.9942\n",
            "Epoch 364/500\n",
            "108/108 [==============================] - 0s 2ms/step - loss: 0.0353 - accuracy: 0.9913 - val_loss: 0.0271 - val_accuracy: 0.9942\n",
            "Epoch 365/500\n",
            "108/108 [==============================] - 0s 2ms/step - loss: 0.0345 - accuracy: 0.9921 - val_loss: 0.0271 - val_accuracy: 0.9942\n",
            "Epoch 366/500\n",
            "108/108 [==============================] - 0s 2ms/step - loss: 0.0347 - accuracy: 0.9916 - val_loss: 0.0257 - val_accuracy: 0.9942\n",
            "Epoch 367/500\n",
            "108/108 [==============================] - 0s 2ms/step - loss: 0.0350 - accuracy: 0.9916 - val_loss: 0.0270 - val_accuracy: 0.9942\n",
            "Epoch 368/500\n",
            "108/108 [==============================] - 0s 2ms/step - loss: 0.0346 - accuracy: 0.9913 - val_loss: 0.0282 - val_accuracy: 0.9942\n",
            "Epoch 369/500\n",
            "108/108 [==============================] - 0s 2ms/step - loss: 0.0349 - accuracy: 0.9913 - val_loss: 0.0263 - val_accuracy: 0.9942\n",
            "Epoch 370/500\n",
            "108/108 [==============================] - 0s 2ms/step - loss: 0.0346 - accuracy: 0.9918 - val_loss: 0.0259 - val_accuracy: 0.9942\n",
            "Epoch 371/500\n",
            "108/108 [==============================] - 0s 2ms/step - loss: 0.0347 - accuracy: 0.9913 - val_loss: 0.0271 - val_accuracy: 0.9953\n",
            "Epoch 372/500\n",
            "108/108 [==============================] - 0s 3ms/step - loss: 0.0344 - accuracy: 0.9916 - val_loss: 0.0262 - val_accuracy: 0.9942\n",
            "Epoch 373/500\n",
            "108/108 [==============================] - 0s 2ms/step - loss: 0.0343 - accuracy: 0.9913 - val_loss: 0.0254 - val_accuracy: 0.9942\n",
            "Epoch 374/500\n",
            "108/108 [==============================] - 0s 2ms/step - loss: 0.0337 - accuracy: 0.9918 - val_loss: 0.0272 - val_accuracy: 0.9953\n",
            "Epoch 375/500\n",
            "108/108 [==============================] - 0s 2ms/step - loss: 0.0342 - accuracy: 0.9916 - val_loss: 0.0257 - val_accuracy: 0.9942\n",
            "Epoch 376/500\n",
            "108/108 [==============================] - 0s 2ms/step - loss: 0.0337 - accuracy: 0.9918 - val_loss: 0.0251 - val_accuracy: 0.9942\n",
            "Epoch 377/500\n",
            "108/108 [==============================] - 0s 3ms/step - loss: 0.0340 - accuracy: 0.9916 - val_loss: 0.0257 - val_accuracy: 0.9942\n",
            "Epoch 378/500\n",
            "108/108 [==============================] - 0s 3ms/step - loss: 0.0335 - accuracy: 0.9924 - val_loss: 0.0257 - val_accuracy: 0.9942\n",
            "Epoch 379/500\n",
            "108/108 [==============================] - 0s 2ms/step - loss: 0.0336 - accuracy: 0.9918 - val_loss: 0.0280 - val_accuracy: 0.9953\n",
            "Epoch 380/500\n",
            "108/108 [==============================] - 0s 2ms/step - loss: 0.0338 - accuracy: 0.9918 - val_loss: 0.0283 - val_accuracy: 0.9942\n",
            "Epoch 381/500\n",
            "108/108 [==============================] - 0s 3ms/step - loss: 0.0340 - accuracy: 0.9921 - val_loss: 0.0255 - val_accuracy: 0.9942\n",
            "Epoch 382/500\n",
            "108/108 [==============================] - 0s 2ms/step - loss: 0.0337 - accuracy: 0.9918 - val_loss: 0.0264 - val_accuracy: 0.9953\n",
            "Epoch 383/500\n",
            "108/108 [==============================] - 0s 2ms/step - loss: 0.0328 - accuracy: 0.9918 - val_loss: 0.0252 - val_accuracy: 0.9942\n",
            "Epoch 384/500\n",
            "108/108 [==============================] - 0s 2ms/step - loss: 0.0331 - accuracy: 0.9927 - val_loss: 0.0274 - val_accuracy: 0.9942\n",
            "Epoch 385/500\n",
            "108/108 [==============================] - 0s 2ms/step - loss: 0.0332 - accuracy: 0.9916 - val_loss: 0.0262 - val_accuracy: 0.9953\n",
            "Epoch 386/500\n",
            "108/108 [==============================] - 0s 2ms/step - loss: 0.0330 - accuracy: 0.9913 - val_loss: 0.0249 - val_accuracy: 0.9942\n",
            "Epoch 387/500\n",
            "108/108 [==============================] - 0s 3ms/step - loss: 0.0336 - accuracy: 0.9916 - val_loss: 0.0255 - val_accuracy: 0.9942\n",
            "Epoch 388/500\n",
            "108/108 [==============================] - 0s 2ms/step - loss: 0.0334 - accuracy: 0.9924 - val_loss: 0.0247 - val_accuracy: 0.9942\n",
            "Epoch 389/500\n",
            "108/108 [==============================] - 0s 2ms/step - loss: 0.0330 - accuracy: 0.9927 - val_loss: 0.0258 - val_accuracy: 0.9953\n",
            "Epoch 390/500\n",
            "108/108 [==============================] - 0s 2ms/step - loss: 0.0330 - accuracy: 0.9918 - val_loss: 0.0266 - val_accuracy: 0.9953\n",
            "Epoch 391/500\n",
            "108/108 [==============================] - 0s 2ms/step - loss: 0.0334 - accuracy: 0.9924 - val_loss: 0.0260 - val_accuracy: 0.9942\n",
            "Epoch 392/500\n",
            "108/108 [==============================] - 0s 2ms/step - loss: 0.0330 - accuracy: 0.9918 - val_loss: 0.0261 - val_accuracy: 0.9953\n",
            "Epoch 393/500\n",
            "108/108 [==============================] - 0s 3ms/step - loss: 0.0329 - accuracy: 0.9918 - val_loss: 0.0260 - val_accuracy: 0.9953\n",
            "Epoch 394/500\n",
            "108/108 [==============================] - 0s 2ms/step - loss: 0.0328 - accuracy: 0.9916 - val_loss: 0.0247 - val_accuracy: 0.9942\n",
            "Epoch 395/500\n",
            "108/108 [==============================] - 0s 2ms/step - loss: 0.0322 - accuracy: 0.9918 - val_loss: 0.0279 - val_accuracy: 0.9942\n",
            "Epoch 396/500\n",
            "108/108 [==============================] - 0s 2ms/step - loss: 0.0329 - accuracy: 0.9910 - val_loss: 0.0250 - val_accuracy: 0.9953\n",
            "Epoch 397/500\n",
            "108/108 [==============================] - 0s 2ms/step - loss: 0.0323 - accuracy: 0.9918 - val_loss: 0.0240 - val_accuracy: 0.9942\n",
            "Epoch 398/500\n",
            "108/108 [==============================] - 0s 2ms/step - loss: 0.0326 - accuracy: 0.9918 - val_loss: 0.0263 - val_accuracy: 0.9953\n",
            "Epoch 399/500\n",
            "108/108 [==============================] - 0s 2ms/step - loss: 0.0324 - accuracy: 0.9924 - val_loss: 0.0287 - val_accuracy: 0.9930\n",
            "Epoch 400/500\n",
            "108/108 [==============================] - 0s 2ms/step - loss: 0.0326 - accuracy: 0.9916 - val_loss: 0.0250 - val_accuracy: 0.9953\n",
            "Epoch 401/500\n",
            "108/108 [==============================] - 0s 2ms/step - loss: 0.0328 - accuracy: 0.9916 - val_loss: 0.0239 - val_accuracy: 0.9942\n",
            "Epoch 402/500\n",
            "108/108 [==============================] - 0s 3ms/step - loss: 0.0326 - accuracy: 0.9927 - val_loss: 0.0242 - val_accuracy: 0.9942\n",
            "Epoch 403/500\n",
            "108/108 [==============================] - 0s 3ms/step - loss: 0.0321 - accuracy: 0.9921 - val_loss: 0.0250 - val_accuracy: 0.9953\n",
            "Epoch 404/500\n",
            "108/108 [==============================] - 0s 2ms/step - loss: 0.0320 - accuracy: 0.9924 - val_loss: 0.0244 - val_accuracy: 0.9942\n",
            "Epoch 405/500\n",
            "108/108 [==============================] - 0s 2ms/step - loss: 0.0323 - accuracy: 0.9930 - val_loss: 0.0252 - val_accuracy: 0.9953\n",
            "Epoch 406/500\n",
            "108/108 [==============================] - 0s 2ms/step - loss: 0.0320 - accuracy: 0.9921 - val_loss: 0.0252 - val_accuracy: 0.9953\n",
            "Epoch 407/500\n",
            "108/108 [==============================] - 0s 3ms/step - loss: 0.0318 - accuracy: 0.9924 - val_loss: 0.0240 - val_accuracy: 0.9942\n",
            "Epoch 408/500\n",
            "108/108 [==============================] - 0s 2ms/step - loss: 0.0321 - accuracy: 0.9918 - val_loss: 0.0269 - val_accuracy: 0.9942\n",
            "Epoch 409/500\n",
            "108/108 [==============================] - 0s 2ms/step - loss: 0.0316 - accuracy: 0.9924 - val_loss: 0.0246 - val_accuracy: 0.9953\n",
            "Epoch 410/500\n",
            "108/108 [==============================] - 0s 3ms/step - loss: 0.0320 - accuracy: 0.9927 - val_loss: 0.0244 - val_accuracy: 0.9953\n",
            "Epoch 411/500\n",
            "108/108 [==============================] - 0s 3ms/step - loss: 0.0312 - accuracy: 0.9921 - val_loss: 0.0234 - val_accuracy: 0.9942\n",
            "Epoch 412/500\n",
            "108/108 [==============================] - 0s 3ms/step - loss: 0.0321 - accuracy: 0.9927 - val_loss: 0.0259 - val_accuracy: 0.9953\n",
            "Epoch 413/500\n",
            "108/108 [==============================] - 0s 2ms/step - loss: 0.0324 - accuracy: 0.9910 - val_loss: 0.0233 - val_accuracy: 0.9942\n",
            "Epoch 414/500\n",
            "108/108 [==============================] - 0s 2ms/step - loss: 0.0320 - accuracy: 0.9924 - val_loss: 0.0239 - val_accuracy: 0.9942\n",
            "Epoch 415/500\n",
            "108/108 [==============================] - 0s 3ms/step - loss: 0.0318 - accuracy: 0.9921 - val_loss: 0.0268 - val_accuracy: 0.9942\n",
            "Epoch 416/500\n",
            "108/108 [==============================] - 0s 3ms/step - loss: 0.0317 - accuracy: 0.9918 - val_loss: 0.0232 - val_accuracy: 0.9942\n",
            "Epoch 417/500\n",
            "108/108 [==============================] - 0s 2ms/step - loss: 0.0316 - accuracy: 0.9924 - val_loss: 0.0245 - val_accuracy: 0.9953\n",
            "Epoch 418/500\n",
            "108/108 [==============================] - 0s 2ms/step - loss: 0.0316 - accuracy: 0.9921 - val_loss: 0.0244 - val_accuracy: 0.9953\n",
            "Epoch 419/500\n",
            "108/108 [==============================] - 0s 2ms/step - loss: 0.0309 - accuracy: 0.9927 - val_loss: 0.0270 - val_accuracy: 0.9942\n",
            "Epoch 420/500\n",
            "108/108 [==============================] - 0s 2ms/step - loss: 0.0319 - accuracy: 0.9927 - val_loss: 0.0242 - val_accuracy: 0.9942\n",
            "Epoch 421/500\n",
            "108/108 [==============================] - 0s 3ms/step - loss: 0.0312 - accuracy: 0.9927 - val_loss: 0.0233 - val_accuracy: 0.9942\n",
            "Epoch 422/500\n",
            "108/108 [==============================] - 0s 2ms/step - loss: 0.0310 - accuracy: 0.9924 - val_loss: 0.0251 - val_accuracy: 0.9953\n",
            "Epoch 423/500\n",
            "108/108 [==============================] - 0s 2ms/step - loss: 0.0310 - accuracy: 0.9924 - val_loss: 0.0248 - val_accuracy: 0.9953\n",
            "Epoch 424/500\n",
            "108/108 [==============================] - 0s 2ms/step - loss: 0.0306 - accuracy: 0.9924 - val_loss: 0.0241 - val_accuracy: 0.9953\n",
            "Epoch 425/500\n",
            "108/108 [==============================] - 0s 3ms/step - loss: 0.0309 - accuracy: 0.9921 - val_loss: 0.0236 - val_accuracy: 0.9953\n",
            "Epoch 426/500\n",
            "108/108 [==============================] - 0s 3ms/step - loss: 0.0314 - accuracy: 0.9918 - val_loss: 0.0237 - val_accuracy: 0.9953\n",
            "Epoch 427/500\n",
            "108/108 [==============================] - 0s 2ms/step - loss: 0.0305 - accuracy: 0.9921 - val_loss: 0.0235 - val_accuracy: 0.9953\n",
            "Epoch 428/500\n",
            "108/108 [==============================] - 0s 2ms/step - loss: 0.0309 - accuracy: 0.9918 - val_loss: 0.0236 - val_accuracy: 0.9953\n",
            "Epoch 429/500\n",
            "108/108 [==============================] - 0s 2ms/step - loss: 0.0309 - accuracy: 0.9927 - val_loss: 0.0242 - val_accuracy: 0.9953\n",
            "Epoch 430/500\n",
            "108/108 [==============================] - 0s 3ms/step - loss: 0.0305 - accuracy: 0.9924 - val_loss: 0.0252 - val_accuracy: 0.9953\n",
            "Epoch 431/500\n",
            "108/108 [==============================] - 0s 2ms/step - loss: 0.0306 - accuracy: 0.9918 - val_loss: 0.0225 - val_accuracy: 0.9942\n",
            "Epoch 432/500\n",
            "108/108 [==============================] - 0s 2ms/step - loss: 0.0310 - accuracy: 0.9930 - val_loss: 0.0236 - val_accuracy: 0.9953\n",
            "Epoch 433/500\n",
            "108/108 [==============================] - 0s 2ms/step - loss: 0.0303 - accuracy: 0.9927 - val_loss: 0.0235 - val_accuracy: 0.9953\n",
            "Epoch 434/500\n",
            "108/108 [==============================] - 0s 2ms/step - loss: 0.0306 - accuracy: 0.9921 - val_loss: 0.0239 - val_accuracy: 0.9953\n",
            "Epoch 435/500\n",
            "108/108 [==============================] - 0s 2ms/step - loss: 0.0302 - accuracy: 0.9930 - val_loss: 0.0229 - val_accuracy: 0.9942\n",
            "Epoch 436/500\n",
            "108/108 [==============================] - 0s 3ms/step - loss: 0.0305 - accuracy: 0.9924 - val_loss: 0.0246 - val_accuracy: 0.9953\n",
            "Epoch 437/500\n",
            "108/108 [==============================] - 0s 2ms/step - loss: 0.0306 - accuracy: 0.9924 - val_loss: 0.0226 - val_accuracy: 0.9942\n",
            "Epoch 438/500\n",
            "108/108 [==============================] - 0s 2ms/step - loss: 0.0306 - accuracy: 0.9921 - val_loss: 0.0237 - val_accuracy: 0.9953\n",
            "Epoch 439/500\n",
            "108/108 [==============================] - 0s 2ms/step - loss: 0.0300 - accuracy: 0.9930 - val_loss: 0.0232 - val_accuracy: 0.9953\n",
            "Epoch 440/500\n",
            "108/108 [==============================] - 0s 2ms/step - loss: 0.0299 - accuracy: 0.9933 - val_loss: 0.0221 - val_accuracy: 0.9942\n",
            "Epoch 441/500\n",
            "108/108 [==============================] - 0s 2ms/step - loss: 0.0301 - accuracy: 0.9924 - val_loss: 0.0221 - val_accuracy: 0.9942\n",
            "Epoch 442/500\n",
            "108/108 [==============================] - 0s 2ms/step - loss: 0.0301 - accuracy: 0.9927 - val_loss: 0.0234 - val_accuracy: 0.9953\n",
            "Epoch 443/500\n",
            "108/108 [==============================] - 0s 2ms/step - loss: 0.0298 - accuracy: 0.9921 - val_loss: 0.0224 - val_accuracy: 0.9953\n",
            "Epoch 444/500\n",
            "108/108 [==============================] - 0s 3ms/step - loss: 0.0295 - accuracy: 0.9933 - val_loss: 0.0253 - val_accuracy: 0.9942\n",
            "Epoch 445/500\n",
            "108/108 [==============================] - 0s 2ms/step - loss: 0.0299 - accuracy: 0.9930 - val_loss: 0.0261 - val_accuracy: 0.9942\n",
            "Epoch 446/500\n",
            "108/108 [==============================] - 0s 2ms/step - loss: 0.0298 - accuracy: 0.9921 - val_loss: 0.0244 - val_accuracy: 0.9953\n",
            "Epoch 447/500\n",
            "108/108 [==============================] - 0s 2ms/step - loss: 0.0298 - accuracy: 0.9927 - val_loss: 0.0255 - val_accuracy: 0.9942\n",
            "Epoch 448/500\n",
            "108/108 [==============================] - 0s 2ms/step - loss: 0.0300 - accuracy: 0.9924 - val_loss: 0.0220 - val_accuracy: 0.9953\n",
            "Epoch 449/500\n",
            "108/108 [==============================] - 0s 2ms/step - loss: 0.0295 - accuracy: 0.9930 - val_loss: 0.0220 - val_accuracy: 0.9953\n",
            "Epoch 450/500\n",
            "108/108 [==============================] - 0s 2ms/step - loss: 0.0295 - accuracy: 0.9936 - val_loss: 0.0219 - val_accuracy: 0.9953\n",
            "Epoch 451/500\n",
            "108/108 [==============================] - 0s 3ms/step - loss: 0.0296 - accuracy: 0.9924 - val_loss: 0.0227 - val_accuracy: 0.9953\n",
            "Epoch 452/500\n",
            "108/108 [==============================] - 0s 3ms/step - loss: 0.0296 - accuracy: 0.9924 - val_loss: 0.0242 - val_accuracy: 0.9953\n",
            "Epoch 453/500\n",
            "108/108 [==============================] - 0s 3ms/step - loss: 0.0295 - accuracy: 0.9927 - val_loss: 0.0220 - val_accuracy: 0.9953\n",
            "Epoch 454/500\n",
            "108/108 [==============================] - 0s 2ms/step - loss: 0.0291 - accuracy: 0.9930 - val_loss: 0.0265 - val_accuracy: 0.9942\n",
            "Epoch 455/500\n",
            "108/108 [==============================] - 0s 3ms/step - loss: 0.0300 - accuracy: 0.9924 - val_loss: 0.0219 - val_accuracy: 0.9953\n",
            "Epoch 456/500\n",
            "108/108 [==============================] - 0s 2ms/step - loss: 0.0289 - accuracy: 0.9927 - val_loss: 0.0267 - val_accuracy: 0.9942\n",
            "Epoch 457/500\n",
            "108/108 [==============================] - 0s 2ms/step - loss: 0.0294 - accuracy: 0.9933 - val_loss: 0.0215 - val_accuracy: 0.9942\n",
            "Epoch 458/500\n",
            "108/108 [==============================] - 0s 3ms/step - loss: 0.0291 - accuracy: 0.9930 - val_loss: 0.0224 - val_accuracy: 0.9953\n",
            "Epoch 459/500\n",
            "108/108 [==============================] - 0s 2ms/step - loss: 0.0293 - accuracy: 0.9927 - val_loss: 0.0228 - val_accuracy: 0.9953\n",
            "Epoch 460/500\n",
            "108/108 [==============================] - 0s 3ms/step - loss: 0.0297 - accuracy: 0.9927 - val_loss: 0.0212 - val_accuracy: 0.9942\n",
            "Epoch 461/500\n",
            "108/108 [==============================] - 0s 2ms/step - loss: 0.0289 - accuracy: 0.9930 - val_loss: 0.0223 - val_accuracy: 0.9953\n",
            "Epoch 462/500\n",
            "108/108 [==============================] - 0s 3ms/step - loss: 0.0290 - accuracy: 0.9921 - val_loss: 0.0232 - val_accuracy: 0.9953\n",
            "Epoch 463/500\n",
            "108/108 [==============================] - 0s 2ms/step - loss: 0.0289 - accuracy: 0.9936 - val_loss: 0.0214 - val_accuracy: 0.9942\n",
            "Epoch 464/500\n",
            "108/108 [==============================] - 0s 2ms/step - loss: 0.0290 - accuracy: 0.9936 - val_loss: 0.0221 - val_accuracy: 0.9953\n",
            "Epoch 465/500\n",
            "108/108 [==============================] - 0s 3ms/step - loss: 0.0291 - accuracy: 0.9930 - val_loss: 0.0219 - val_accuracy: 0.9953\n",
            "Epoch 466/500\n",
            "108/108 [==============================] - 0s 3ms/step - loss: 0.0285 - accuracy: 0.9933 - val_loss: 0.0216 - val_accuracy: 0.9953\n",
            "Epoch 467/500\n",
            "108/108 [==============================] - 0s 2ms/step - loss: 0.0289 - accuracy: 0.9927 - val_loss: 0.0227 - val_accuracy: 0.9953\n",
            "Epoch 468/500\n",
            "108/108 [==============================] - 0s 3ms/step - loss: 0.0286 - accuracy: 0.9927 - val_loss: 0.0209 - val_accuracy: 0.9942\n",
            "Epoch 469/500\n",
            "108/108 [==============================] - 0s 2ms/step - loss: 0.0285 - accuracy: 0.9933 - val_loss: 0.0211 - val_accuracy: 0.9942\n",
            "Epoch 470/500\n",
            "108/108 [==============================] - 0s 2ms/step - loss: 0.0281 - accuracy: 0.9933 - val_loss: 0.0258 - val_accuracy: 0.9942\n",
            "Epoch 471/500\n",
            "108/108 [==============================] - 0s 2ms/step - loss: 0.0287 - accuracy: 0.9930 - val_loss: 0.0211 - val_accuracy: 0.9953\n",
            "Epoch 472/500\n",
            "108/108 [==============================] - 0s 2ms/step - loss: 0.0283 - accuracy: 0.9930 - val_loss: 0.0210 - val_accuracy: 0.9953\n",
            "Epoch 473/500\n",
            "108/108 [==============================] - 0s 2ms/step - loss: 0.0283 - accuracy: 0.9930 - val_loss: 0.0239 - val_accuracy: 0.9953\n",
            "Epoch 474/500\n",
            "108/108 [==============================] - 0s 3ms/step - loss: 0.0280 - accuracy: 0.9930 - val_loss: 0.0221 - val_accuracy: 0.9953\n",
            "Epoch 475/500\n",
            "108/108 [==============================] - 0s 2ms/step - loss: 0.0284 - accuracy: 0.9927 - val_loss: 0.0207 - val_accuracy: 0.9953\n",
            "Epoch 476/500\n",
            "108/108 [==============================] - 0s 3ms/step - loss: 0.0287 - accuracy: 0.9936 - val_loss: 0.0224 - val_accuracy: 0.9953\n",
            "Epoch 477/500\n",
            "108/108 [==============================] - 0s 2ms/step - loss: 0.0282 - accuracy: 0.9936 - val_loss: 0.0210 - val_accuracy: 0.9953\n",
            "Epoch 478/500\n",
            "108/108 [==============================] - 0s 3ms/step - loss: 0.0283 - accuracy: 0.9924 - val_loss: 0.0210 - val_accuracy: 0.9953\n",
            "Epoch 479/500\n",
            "108/108 [==============================] - 0s 2ms/step - loss: 0.0288 - accuracy: 0.9939 - val_loss: 0.0209 - val_accuracy: 0.9953\n",
            "Epoch 480/500\n",
            "108/108 [==============================] - 0s 2ms/step - loss: 0.0282 - accuracy: 0.9933 - val_loss: 0.0210 - val_accuracy: 0.9953\n",
            "Epoch 481/500\n",
            "108/108 [==============================] - 0s 3ms/step - loss: 0.0280 - accuracy: 0.9936 - val_loss: 0.0208 - val_accuracy: 0.9953\n",
            "Epoch 482/500\n",
            "108/108 [==============================] - 0s 3ms/step - loss: 0.0279 - accuracy: 0.9933 - val_loss: 0.0205 - val_accuracy: 0.9953\n",
            "Epoch 483/500\n",
            "108/108 [==============================] - 0s 2ms/step - loss: 0.0283 - accuracy: 0.9930 - val_loss: 0.0210 - val_accuracy: 0.9953\n",
            "Epoch 484/500\n",
            "108/108 [==============================] - 0s 2ms/step - loss: 0.0273 - accuracy: 0.9942 - val_loss: 0.0208 - val_accuracy: 0.9942\n",
            "Epoch 485/500\n",
            "108/108 [==============================] - 0s 2ms/step - loss: 0.0278 - accuracy: 0.9936 - val_loss: 0.0215 - val_accuracy: 0.9953\n",
            "Epoch 486/500\n",
            "108/108 [==============================] - 0s 2ms/step - loss: 0.0276 - accuracy: 0.9930 - val_loss: 0.0218 - val_accuracy: 0.9953\n",
            "Epoch 487/500\n",
            "108/108 [==============================] - 0s 3ms/step - loss: 0.0279 - accuracy: 0.9924 - val_loss: 0.0207 - val_accuracy: 0.9953\n",
            "Epoch 488/500\n",
            "108/108 [==============================] - 0s 2ms/step - loss: 0.0282 - accuracy: 0.9930 - val_loss: 0.0226 - val_accuracy: 0.9953\n",
            "Epoch 489/500\n",
            "108/108 [==============================] - 0s 2ms/step - loss: 0.0279 - accuracy: 0.9939 - val_loss: 0.0213 - val_accuracy: 0.9953\n",
            "Epoch 490/500\n",
            "108/108 [==============================] - 0s 2ms/step - loss: 0.0275 - accuracy: 0.9939 - val_loss: 0.0222 - val_accuracy: 0.9953\n",
            "Epoch 491/500\n",
            "108/108 [==============================] - 0s 2ms/step - loss: 0.0277 - accuracy: 0.9933 - val_loss: 0.0225 - val_accuracy: 0.9953\n",
            "Epoch 492/500\n",
            "108/108 [==============================] - 0s 2ms/step - loss: 0.0276 - accuracy: 0.9933 - val_loss: 0.0204 - val_accuracy: 0.9953\n",
            "Epoch 493/500\n",
            "108/108 [==============================] - 0s 2ms/step - loss: 0.0280 - accuracy: 0.9933 - val_loss: 0.0211 - val_accuracy: 0.9953\n",
            "Epoch 494/500\n",
            "108/108 [==============================] - 0s 2ms/step - loss: 0.0276 - accuracy: 0.9930 - val_loss: 0.0220 - val_accuracy: 0.9953\n",
            "Epoch 495/500\n",
            "108/108 [==============================] - 0s 2ms/step - loss: 0.0272 - accuracy: 0.9939 - val_loss: 0.0229 - val_accuracy: 0.9953\n",
            "Epoch 496/500\n",
            "108/108 [==============================] - 0s 2ms/step - loss: 0.0276 - accuracy: 0.9939 - val_loss: 0.0205 - val_accuracy: 0.9953\n",
            "Epoch 497/500\n",
            "108/108 [==============================] - 0s 2ms/step - loss: 0.0272 - accuracy: 0.9936 - val_loss: 0.0210 - val_accuracy: 0.9953\n",
            "Epoch 498/500\n",
            "108/108 [==============================] - 0s 2ms/step - loss: 0.0273 - accuracy: 0.9933 - val_loss: 0.0211 - val_accuracy: 0.9953\n",
            "Epoch 499/500\n",
            "108/108 [==============================] - 0s 3ms/step - loss: 0.0277 - accuracy: 0.9945 - val_loss: 0.0210 - val_accuracy: 0.9953\n",
            "Epoch 500/500\n",
            "108/108 [==============================] - 0s 2ms/step - loss: 0.0270 - accuracy: 0.9936 - val_loss: 0.0230 - val_accuracy: 0.9953\n"
          ]
        }
      ]
    },
    {
      "cell_type": "code",
      "metadata": {
        "colab": {
          "base_uri": "https://localhost:8080/",
          "height": 312
        },
        "id": "8AUybfkL0tJG",
        "outputId": "b23a7fe1-6a18-489c-f9da-f4691dfe023f"
      },
      "source": [
        "model.evaluate(\n",
        "    testing_dataset, \n",
        "    to_categorical(testing_labels)\n",
        ")\n",
        "\n",
        "# Graphing the History\n",
        "loss = history.history['loss']\n",
        "val_loss = history.history['val_loss']\n",
        "epochs= range(1,len(loss)+1)\n",
        "\n",
        "plt.plot(epochs, loss, 'g.', label= 'Training loss')\n",
        "plt.plot(epochs, val_loss, 'b.', label='Validation loss')\n",
        "plt.title('Training and validation loss')\n",
        "plt.xlabel('Epochs')\n",
        "plt.ylabel('Loss')\n",
        "plt.legend() \n",
        "plt.show() "
      ],
      "execution_count": 12,
      "outputs": [
        {
          "output_type": "stream",
          "name": "stdout",
          "text": [
            "34/34 [==============================] - 0s 1ms/step - loss: 0.0409 - accuracy: 0.9870\n"
          ]
        },
        {
          "output_type": "display_data",
          "data": {
            "image/png": "[encoded data removed]",
            "text/plain": [
              "<Figure size 432x288 with 1 Axes>"
            ]
          },
          "metadata": {
            "needs_background": "light"
          }
        }
      ]
    },
    {
      "cell_type": "markdown",
      "metadata": {
        "id": "y8IhNIPE3eS1"
      },
      "source": [
        "# **Save the NN**"
      ]
    },
    {
      "cell_type": "code",
      "metadata": {
        "id": "iUwyf8WGKSKA"
      },
      "source": [
        "name = \"My_Neuronal_Network\"\n",
        "url_h5 = \"/content/drive/MyDrive/\" + name + \".h5\"\n",
        "url_tflite = '/content/drive/MyDrive/' + name + '.tflite'\n",
        "# save tensorflow model\n",
        "model.save(url_h5)"
      ],
      "execution_count": 13,
      "outputs": []
    },
    {
      "cell_type": "code",
      "metadata": {
        "colab": {
          "base_uri": "https://localhost:8080/"
        },
        "id": "b-xWmsO1J-Ip",
        "outputId": "261496e2-a888-4684-b430-f1adad963681"
      },
      "source": [
        "cnn_model = tf.keras.models.load_model(url_h5)\n",
        "converter = tf.lite.TFLiteConverter.from_keras_model(cnn_model)\n",
        "tflite_model = converter.convert()\n",
        "# save tensorflow lite model \n",
        "with open(url_tflite, 'wb') as f:\n",
        "  f.write(tflite_model)"
      ],
      "execution_count": 14,
      "outputs": [
        {
          "output_type": "stream",
          "name": "stdout",
          "text": [
            "INFO:tensorflow:Assets written to: /tmp/tmp9d7nfm_s/assets\n"
          ]
        },
        {
          "output_type": "stream",
          "name": "stderr",
          "text": [
            "WARNING:absl:Buffer deduplication procedure will be skipped when flatbuffer library is not properly loaded\n"
          ]
        }
      ]
    },
    {
      "cell_type": "markdown",
      "metadata": {
        "id": "JTqrZeigQcoj"
      },
      "source": [
        "# **Test Tensor Flow Lite model**"
      ]
    },
    {
      "cell_type": "code",
      "metadata": {
        "colab": {
          "base_uri": "https://localhost:8080/",
          "height": 1000
        },
        "id": "SmAlbDBlMyKC",
        "outputId": "a4abdd77-f0ed-4e4a-db78-cfaff6e07123"
      },
      "source": [
        "# input data\n",
        "url = \"/content/drive/MyDrive/my_csv.csv\"\n",
        "\n",
        "# read data set\n",
        "#df_raw = pd.read_csv(url, parse_dates=True)\n",
        "#h,w = df_raw.shape\n",
        "\n",
        "# format date in data set\n",
        "#df_raw.iloc[0:h, 0] = pd.to_datetime(df_raw.iloc[0:h,0])\n",
        "\n",
        "# Separate labels and date from the Data set\n",
        "#df_label = df_raw.pop(df_raw.columns[w-1])\n",
        "#df = df_raw.iloc[0:h, 1:w-1]\n",
        "\n",
        "#url = \"/content/drive/MyDrive/Colab Notebooks/TinyML_IR-Sensor-main/klassifizierung_messedemo.csv\"\n",
        "\n",
        "#num_classes=3\n",
        "#input = 64 \n",
        "prediction=[]\n",
        "\n",
        "# read the csv row wise and classify\n",
        "for n_read_rows in range(1, 1200):\n",
        "  df_val = pd.read_csv(url, parse_dates=True, sep=',', skiprows=n_read_rows, nrows=1)\n",
        "  h, w = df_val.shape\n",
        "\n",
        "  # separate date and label\n",
        "  label = df_val.pop(df_val.columns[w-1])\n",
        "  df_val = df_val.iloc[0:h, 1:w-1]\n",
        "\n",
        "  # reshape numpy array\n",
        "  val_data = np.array(df_val, dtype = np.float32 )\n",
        "  val_data = np.reshape(val_data, (1,8,8,-1))\n",
        "\n",
        "  # normalize the data\n",
        "  min = 20.0\n",
        "  max = 80.0\n",
        "  val = (val_data - min) / (max - min) \n",
        "\n",
        "  # set tflite model\n",
        "  interpreter = tf.lite.Interpreter(model_path=\"/content/drive/MyDrive/My_Neuronal_Network.tflite\")\n",
        "  interpreter.allocate_tensors()\n",
        "\n",
        "  input_details = interpreter.get_input_details()\n",
        "  output_details = interpreter.get_output_details()\n",
        "\n",
        "  interpreter.set_tensor(interpreter.get_input_details()[0][\"index\"], val)\n",
        "  interpreter.invoke()\n",
        "  output = interpreter.get_tensor(output_details[0]['index'])\n",
        "\n",
        "  # prediction\n",
        "  tfl_prediction = np.argmax(output)\n",
        "  # list all predictions\n",
        "  prediction.append((label, tfl_prediction))\n",
        "  # print if prediction is differs from label\n",
        "  if (tfl_prediction != label.iloc[0]):\n",
        "    print(\"Index: \",n_read_rows, \"Label: \", label[0], \"Prediction: \", tfl_prediction)\n",
        "\n",
        "    val_data = np.reshape(val_data, (8,8))\n",
        "    # plot image\n",
        "    plt.imshow(val_data)\n",
        "    plt.title('IR Image number: '+str(n_read_rows)+' Label: '+str(label[0]))\n",
        "    plt.colorbar()\n",
        "    plt.show()\n"
      ],
      "execution_count": 26,
      "outputs": [
        {
          "output_type": "stream",
          "name": "stdout",
          "text": [
            "Index:  449 Label:  1 Prediction:  0\n"
          ]
        },
        {
          "output_type": "display_data",
          "data": {
            "image/png": "[encoded data removed]",
            "text/plain": [
              "<Figure size 432x288 with 2 Axes>"
            ]
          },
          "metadata": {
            "needs_background": "light"
          }
        },
        {
          "output_type": "stream",
          "name": "stdout",
          "text": [
            "Index:  450 Label:  1 Prediction:  0\n"
          ]
        },
        {
          "output_type": "display_data",
          "data": {
            "image/png": "[encoded data removed]",
            "text/plain": [
              "<Figure size 432x288 with 2 Axes>"
            ]
          },
          "metadata": {
            "needs_background": "light"
          }
        },
        {
          "output_type": "stream",
          "name": "stdout",
          "text": [
            "Index:  451 Label:  1 Prediction:  0\n"
          ]
        },
        {
          "output_type": "display_data",
          "data": {
            "image/png": "[encoded data removed]",
            "text/plain": [
              "<Figure size 432x288 with 2 Axes>"
            ]
          },
          "metadata": {
            "needs_background": "light"
          }
        },
        {
          "output_type": "stream",
          "name": "stdout",
          "text": [
            "Index:  452 Label:  1 Prediction:  0\n"
          ]
        },
        {
          "output_type": "display_data",
          "data": {
            "image/png": "[encoded data removed]",
            "text/plain": [
              "<Figure size 432x288 with 2 Axes>"
            ]
          },
          "metadata": {
            "needs_background": "light"
          }
        },
        {
          "output_type": "stream",
          "name": "stdout",
          "text": [
            "Index:  453 Label:  1 Prediction:  0\n"
          ]
        },
        {
          "output_type": "display_data",
          "data": {
            "image/png": "[encoded data removed]",
            "text/plain": [
              "<Figure size 432x288 with 2 Axes>"
            ]
          },
          "metadata": {
            "needs_background": "light"
          }
        },
        {
          "output_type": "stream",
          "name": "stdout",
          "text": [
            "Index:  454 Label:  1 Prediction:  0\n"
          ]
        },
        {
          "output_type": "display_data",
          "data": {
            "image/png": "[encoded data removed]",
            "text/plain": [
              "<Figure size 432x288 with 2 Axes>"
            ]
          },
          "metadata": {
            "needs_background": "light"
          }
        },
        {
          "output_type": "stream",
          "name": "stdout",
          "text": [
            "Index:  455 Label:  1 Prediction:  0\n"
          ]
        },
        {
          "output_type": "display_data",
          "data": {
            "image/png": "[encoded data removed]",
            "text/plain": [
              "<Figure size 432x288 with 2 Axes>"
            ]
          },
          "metadata": {
            "needs_background": "light"
          }
        },
        {
          "output_type": "stream",
          "name": "stdout",
          "text": [
            "Index:  456 Label:  1 Prediction:  0\n"
          ]
        },
        {
          "output_type": "display_data",
          "data": {
            "image/png": "[encoded data removed]",
            "text/plain": [
              "<Figure size 432x288 with 2 Axes>"
            ]
          },
          "metadata": {
            "needs_background": "light"
          }
        },
        {
          "output_type": "stream",
          "name": "stdout",
          "text": [
            "Index:  457 Label:  1 Prediction:  0\n"
          ]
        },
        {
          "output_type": "display_data",
          "data": {
            "image/png": "[encoded data removed]",
            "text/plain": [
              "<Figure size 432x288 with 2 Axes>"
            ]
          },
          "metadata": {
            "needs_background": "light"
          }
        },
        {
          "output_type": "stream",
          "name": "stdout",
          "text": [
            "Index:  458 Label:  1 Prediction:  0\n"
          ]
        },
        {
          "output_type": "display_data",
          "data": {
            "image/png": "[encoded data removed]",
            "text/plain": [
              "<Figure size 432x288 with 2 Axes>"
            ]
          },
          "metadata": {
            "needs_background": "light"
          }
        },
        {
          "output_type": "stream",
          "name": "stdout",
          "text": [
            "Index:  896 Label:  1 Prediction:  0\n"
          ]
        },
        {
          "output_type": "display_data",
          "data": {
            "image/png": "[encoded data removed]",
            "text/plain": [
              "<Figure size 432x288 with 2 Axes>"
            ]
          },
          "metadata": {
            "needs_background": "light"
          }
        },
        {
          "output_type": "stream",
          "name": "stdout",
          "text": [
            "Index:  899 Label:  2 Prediction:  1\n"
          ]
        },
        {
          "output_type": "display_data",
          "data": {
            "image/png": "[encoded data removed]",
            "text/plain": [
              "<Figure size 432x288 with 2 Axes>"
            ]
          },
          "metadata": {
            "needs_background": "light"
          }
        },
        {
          "output_type": "stream",
          "name": "stdout",
          "text": [
            "Index:  900 Label:  2 Prediction:  1\n"
          ]
        },
        {
          "output_type": "display_data",
          "data": {
            "image/png": "[encoded data removed]",
            "text/plain": [
              "<Figure size 432x288 with 2 Axes>"
            ]
          },
          "metadata": {
            "needs_background": "light"
          }
        },
        {
          "output_type": "stream",
          "name": "stdout",
          "text": [
            "Index:  901 Label:  2 Prediction:  1\n"
          ]
        },
        {
          "output_type": "display_data",
          "data": {
            "image/png": "[encoded data removed]",
            "text/plain": [
              "<Figure size 432x288 with 2 Axes>"
            ]
          },
          "metadata": {
            "needs_background": "light"
          }
        }
      ]
    },
    {
      "cell_type": "code",
      "metadata": {
        "id": "-4o2M7Bhskxb"
      },
      "source": [
        ""
      ],
      "execution_count": null,
      "outputs": []
    }
  ]
}